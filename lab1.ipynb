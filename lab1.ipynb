{
 "cells": [
  {
   "cell_type": "code",
   "execution_count": 1,
   "id": "5524251d",
   "metadata": {},
   "outputs": [],
   "source": [
    "#1\n",
    "arr = [0.001 for i in range(10**7)]"
   ]
  },
  {
   "cell_type": "code",
   "execution_count": 2,
   "id": "c32f0b9d",
   "metadata": {},
   "outputs": [
    {
     "name": "stdout",
     "output_type": "stream",
     "text": [
      "10000.000001578517\n",
      "10000.000001578517\n"
     ]
    }
   ],
   "source": [
    "s = 0\n",
    "for t in arr:\n",
    "    s += t\n",
    "print(s)\n",
    "print(sum(arr))"
   ]
  },
  {
   "cell_type": "code",
   "execution_count": 3,
   "id": "1da2a305",
   "metadata": {},
   "outputs": [
    {
     "name": "stdout",
     "output_type": "stream",
     "text": [
      "1.5785171854076907e-06\n",
      "1.5785171854076907e-08 %\n"
     ]
    }
   ],
   "source": [
    "value = 10**7*0.001\n",
    "err = abs(s - value)\n",
    "print(err)\n",
    "print(err/value*100,'%')"
   ]
  },
  {
   "cell_type": "code",
   "execution_count": 4,
   "id": "cb1a8eae",
   "metadata": {},
   "outputs": [],
   "source": [
    "err =[]\n",
    "length=200\n",
    "n = [25 * i for i in range(1,length)]\n",
    "value=0\n",
    "for i in range(1,length):\n",
    "    arr=[0.001 for j in range(25000*i)]\n",
    "    result = i * 25\n",
    "    s=sum(arr)\n",
    "    err.append(abs(s-n[i-1]))"
   ]
  },
  {
   "cell_type": "code",
   "execution_count": 5,
   "id": "f15feaec",
   "metadata": {},
   "outputs": [],
   "source": [
    "%matplotlib inline\n",
    "import matplotlib.pyplot as plt\n",
    "import numpy as np\n",
    "import datetime\n",
    "import math"
   ]
  },
  {
   "cell_type": "code",
   "execution_count": 6,
   "id": "a258f100",
   "metadata": {},
   "outputs": [
    {
     "data": {
      "image/png": "[encoded data removed]",
      "text/plain": [
       "<Figure size 432x288 with 1 Axes>"
      ]
     },
     "metadata": {
      "needs_background": "light"
     },
     "output_type": "display_data"
    }
   ],
   "source": [
    "plt.plot(n,err)\n",
    "plt.show()"
   ]
  },
  {
   "cell_type": "code",
   "execution_count": 7,
   "id": "1d28e2fc",
   "metadata": {},
   "outputs": [],
   "source": [
    "def treeSum(arr,a,b):\n",
    "    if a<b:\n",
    "        m = (a+b)//2\n",
    "        return treeSum(arr,a,m-1)+treeSum(arr,m+1,b)+arr[m]\n",
    "    elif a==b:\n",
    "        return arr[a]\n",
    "    else:\n",
    "        return 0"
   ]
  },
  {
   "cell_type": "code",
   "execution_count": 8,
   "id": "348d9def",
   "metadata": {},
   "outputs": [],
   "source": [
    "arr = [0.001 for i in range(10**7)]"
   ]
  },
  {
   "cell_type": "code",
   "execution_count": 9,
   "id": "02f7533f",
   "metadata": {},
   "outputs": [
    {
     "name": "stdout",
     "output_type": "stream",
     "text": [
      "10000.000000000004\n"
     ]
    }
   ],
   "source": [
    "x=treeSum(arr,0,10**7-1)\n",
    "print(x)"
   ]
  },
  {
   "cell_type": "code",
   "execution_count": 10,
   "id": "945ff7e0",
   "metadata": {},
   "outputs": [
    {
     "name": "stdout",
     "output_type": "stream",
     "text": [
      "3.637978807091713e-12\n",
      "3.637978807091713e-14 %\n"
     ]
    }
   ],
   "source": [
    "value = 10**7*0.001\n",
    "err = abs(x - value)\n",
    "print(err)\n",
    "print(err/value*100,'%')"
   ]
  },
  {
   "cell_type": "code",
   "execution_count": 11,
   "id": "b0bfc1a8",
   "metadata": {},
   "outputs": [
    {
     "name": "stdout",
     "output_type": "stream",
     "text": [
      "TreeSum time:\t\t 0:00:02.514128\n",
      "Normal sum time:\t 0:00:00.039856\n"
     ]
    }
   ],
   "source": [
    "start1=datetime.datetime.now()\n",
    "x=treeSum(arr,0,10**7-1)\n",
    "start2=datetime.datetime.now()\n",
    "print(\"TreeSum time:\\t\\t\",start2-start1)\n",
    "x=sum(arr)\n",
    "stop=datetime.datetime.now()\n",
    "print(\"Normal sum time:\\t\",stop-start2)"
   ]
  },
  {
   "cell_type": "code",
   "execution_count": 12,
   "id": "05cf5db1",
   "metadata": {},
   "outputs": [],
   "source": [
    "#2 Algorytm Kahana\n",
    "def Kahan(arr):\n",
    "    sum = 0.0\n",
    "    err = 0.0\n",
    "    for i in range(len(arr)):\n",
    "        y = arr[i] - err\n",
    "        temp = sum + y\n",
    "        err = (temp - sum) - y\n",
    "        sum = temp\n",
    "    return sum"
   ]
  },
  {
   "cell_type": "code",
   "execution_count": 13,
   "id": "5c8d187f",
   "metadata": {},
   "outputs": [
    {
     "name": "stdout",
     "output_type": "stream",
     "text": [
      "10000.0\n"
     ]
    }
   ],
   "source": [
    "result=Kahan(arr)\n",
    "print(result)"
   ]
  },
  {
   "cell_type": "code",
   "execution_count": 14,
   "id": "360b6ce2",
   "metadata": {},
   "outputs": [
    {
     "name": "stdout",
     "output_type": "stream",
     "text": [
      "0.0\n",
      "0.0 %\n"
     ]
    }
   ],
   "source": [
    "value = 10**7*0.001\n",
    "err = abs(result - value)\n",
    "print(err)\n",
    "print(err/value*100,'%')"
   ]
  },
  {
   "cell_type": "code",
   "execution_count": 15,
   "id": "35533026",
   "metadata": {},
   "outputs": [
    {
     "name": "stdout",
     "output_type": "stream",
     "text": [
      "TreeSum time:\t 0:00:02.546196\n",
      "Kahan sum time:\t 0:00:01.431213\n"
     ]
    }
   ],
   "source": [
    "start1=datetime.datetime.now()\n",
    "x=treeSum(arr,0,10**7-1)\n",
    "start2=datetime.datetime.now()\n",
    "print(\"TreeSum time:\\t\",start2-start1)\n",
    "x=Kahan(arr)\n",
    "stop=datetime.datetime.now()\n",
    "print(\"Kahan sum time:\\t\",stop-start2)"
   ]
  },
  {
   "cell_type": "code",
   "execution_count": 16,
   "id": "2cdd686d",
   "metadata": {},
   "outputs": [],
   "source": [
    "#3 Sumy Częściowe\n",
    "def dzeta(s,n):\n",
    "    sum = np.float32(0)\n",
    "    for i in range(1 , n+1):\n",
    "        sum += 1/np.power(np.float32(i),s)\n",
    "    return sum"
   ]
  },
  {
   "cell_type": "code",
   "execution_count": 17,
   "id": "c3f4e3cf",
   "metadata": {},
   "outputs": [],
   "source": [
    "def eta(s,n):\n",
    "    sum = np.float32(0)\n",
    "    for i in range(1 , n+1):\n",
    "        sum += np.power(-1,i-1)/math.pow(i,s)\n",
    "    return sum"
   ]
  },
  {
   "cell_type": "code",
   "execution_count": 18,
   "id": "8f3835aa",
   "metadata": {},
   "outputs": [],
   "source": [
    "s = [2,3.6667,5,7.2,10]\n",
    "n = [50,100,200,500,1000]"
   ]
  },
  {
   "cell_type": "code",
   "execution_count": 19,
   "id": "37fd7015",
   "metadata": {},
   "outputs": [
    {
     "name": "stdout",
     "output_type": "stream",
     "text": [
      "function dzeta\n",
      "values for  2 \t\n",
      "1.625132733621529\t1.6349839001848923\t1.6399465460149971\t1.642936065514894\t1.6439345666815615\t\n",
      "\n",
      "values for  3.6667 \t\n",
      "1.1093997551541945\t1.1094087973421474\t1.1094102423332313\t1.1094104908440712\t1.1094105108423578\t\n",
      "\n",
      "values for  5 \t\n",
      "1.036927716716712\t1.0369277526929555\t1.0369277549886775\t1.0369277551393863\t1.0369277551431222\t\n",
      "\n",
      "values for  7.2 \t\n",
      "1.0072276664762816\t1.007227666480654\t1.0072276664807145\t1.0072276664807145\t1.0072276664807145\t\n",
      "\n",
      "values for  10 \t\n",
      "1.0009945751278182\t1.0009945751278182\t1.0009945751278182\t1.0009945751278182\t1.0009945751278182\t\n",
      "\n"
     ]
    }
   ],
   "source": [
    "#single precision\n",
    "print(\"function dzeta\")\n",
    "for i in s:\n",
    "    print(\"values for \",i,\"\\t\")\n",
    "    for j in n:\n",
    "        print(dzeta(i,j),end=\"\\t\")\n",
    "    print(\"\\n\")"
   ]
  },
  {
   "cell_type": "code",
   "execution_count": 20,
   "id": "4a97589a",
   "metadata": {},
   "outputs": [
    {
     "name": "stdout",
     "output_type": "stream",
     "text": [
      "function eta\n",
      "values for  2 \t\n",
      "0.8222710318260295\t0.8224175333741286\t0.822454595922551\t0.8224650374240963\t0.8224665339241114\t\n",
      "\n",
      "values for  3.6667 \t\n",
      "0.9346930600307106\t0.9346933211400662\t0.9346933421086845\t0.9346933438558745\t0.9346933439141353\t\n",
      "\n",
      "values for  5 \t\n",
      "0.9721197689267979\t0.9721197703981592\t0.972119770445367\t0.9721197704468947\t0.9721197704469091\t\n",
      "\n",
      "values for  7.2 \t\n",
      "0.9935270006613486\t0.9935270006616185\t0.9935270006616201\t0.9935270006616201\t0.9935270006616201\t\n",
      "\n",
      "values for  10 \t\n",
      "0.9990395075982718\t0.9990395075982718\t0.9990395075982718\t0.9990395075982718\t0.9990395075982718\t\n",
      "\n"
     ]
    }
   ],
   "source": [
    "#single precision\n",
    "print(\"function eta\")\n",
    "for i in s:\n",
    "    print(\"values for \",i,\"\\t\")\n",
    "    for j in n:\n",
    "        print(eta(i,j),end=\"\\t\")\n",
    "    print(\"\\n\")"
   ]
  },
  {
   "cell_type": "code",
   "execution_count": 29,
   "id": "f8c84ff5",
   "metadata": {},
   "outputs": [
    {
     "name": "stdout",
     "output_type": "stream",
     "text": [
      "function dzeta\n",
      "values for  2 \t\n",
      "1.6251327336215293\t1.634983900184893\t1.6399465460149973\t1.6429360655148941\t1.6439345666815597\t\n",
      "\n",
      "values for  3.6667 \t\n",
      "1.1093997551541943\t1.1094087973421476\t1.109410242333231\t1.1094104908440725\t1.1094105108423593\t\n",
      "\n",
      "values for  5 \t\n",
      "1.0369277167167108\t1.0369277526929532\t1.036927754988676\t1.0369277551393858\t1.0369277551431204\t\n",
      "\n",
      "values for  7.2 \t\n",
      "1.0072276664762823\t1.007227666480655\t1.0072276664807163\t1.0072276664807172\t1.0072276664807172\t\n",
      "\n",
      "values for  10 \t\n",
      "1.000994575127818\t1.000994575127818\t1.000994575127818\t1.000994575127818\t1.000994575127818\t\n",
      "\n"
     ]
    }
   ],
   "source": [
    "#single precision, backward summing\n",
    "def b_dzeta(s,n):\n",
    "    sum = np.float32(0)\n",
    "    for i in range(n , 0,-1):\n",
    "        sum += 1/np.power(np.float32(i),s)\n",
    "    return sum\n",
    "print(\"function dzeta\")\n",
    "for i in s:\n",
    "    print(\"values for \",i,\"\\t\")\n",
    "    for j in n:\n",
    "        print(b_dzeta(i,j),end=\"\\t\")\n",
    "    print(\"\\n\")"
   ]
  },
  {
   "cell_type": "code",
   "execution_count": 30,
   "id": "4110f6a0",
   "metadata": {},
   "outputs": [
    {
     "name": "stdout",
     "output_type": "stream",
     "text": [
      "function eta\n",
      "values for  2 \t\n",
      "0.8222710318260289\t0.8224175333741282\t0.8224545959225509\t0.8224650374240972\t0.8224665339241127\t\n",
      "\n",
      "values for  3.6667 \t\n",
      "0.934693060030711\t0.934693321140067\t0.9346933421086852\t0.934693343855875\t0.9346933439141354\t\n",
      "\n",
      "values for  5 \t\n",
      "0.9721197689267976\t0.9721197703981589\t0.9721197704453663\t0.9721197704468933\t0.9721197704469088\t\n",
      "\n",
      "values for  7.2 \t\n",
      "0.9935270006613481\t0.9935270006616179\t0.9935270006616198\t0.9935270006616198\t0.9935270006616198\t\n",
      "\n",
      "values for  10 \t\n",
      "0.9990395075982715\t0.9990395075982715\t0.9990395075982715\t0.9990395075982715\t0.9990395075982715\t\n",
      "\n"
     ]
    }
   ],
   "source": [
    "#single precision, backward summing\n",
    "def b_eta(s,n):\n",
    "    sum = np.float32(0)\n",
    "    for i in range(n,0,-1):\n",
    "        sum += np.power(-1,i-1)/math.pow(i,s)\n",
    "    return sum\n",
    "print(\"function eta\")\n",
    "for i in s:\n",
    "    print(\"values for \",i,\"\\t\")\n",
    "    for j in n:\n",
    "        print(b_eta(i,j),end=\"\\t\")\n",
    "    print(\"\\n\")"
   ]
  },
  {
   "cell_type": "markdown",
   "id": "f8e302e5",
   "metadata": {},
   "source": [
    "# Gdy dodaję do siebie składniki sumy od tyłu, okazuje się, że wychodzą one różne od tych sumowanych w kolejności wzoru. Dzieje się tak, gdyż w drugim wypadku, do całkowitej sumy dodaję bardzo małe liczby, zwiększając tym samym błąd wyniku. W drugim wypadku, suma jest na początku bardzo mała i w miarę jej rośnięcia dodaję co raz większe liczby."
   ]
  },
  {
   "cell_type": "code",
   "execution_count": 24,
   "id": "70e5bac6",
   "metadata": {},
   "outputs": [],
   "source": [
    "#double precision\n",
    "def dzeta(s,n):\n",
    "    sum = np.double(0)\n",
    "    for i in range(1 , n+1):\n",
    "        sum += np.double(1)/np.power(np.double(i),np.double(s))\n",
    "    return sum"
   ]
  },
  {
   "cell_type": "code",
   "execution_count": 25,
   "id": "7a1fb03e",
   "metadata": {},
   "outputs": [
    {
     "name": "stdout",
     "output_type": "stream",
     "text": [
      "function dzeta\n",
      "values for  2 \t\n",
      "1.625132733621529\t1.6349839001848923\t1.6399465460149971\t1.642936065514894\t1.6439345666815615\t\n",
      "\n",
      "values for  3.6667 \t\n",
      "1.1093997551541945\t1.1094087973421474\t1.1094102423332313\t1.1094104908440712\t1.1094105108423578\t\n",
      "\n",
      "values for  5 \t\n",
      "1.036927716716712\t1.0369277526929555\t1.0369277549886775\t1.0369277551393863\t1.0369277551431222\t\n",
      "\n",
      "values for  7.2 \t\n",
      "1.0072276664762816\t1.007227666480654\t1.0072276664807145\t1.0072276664807145\t1.0072276664807145\t\n",
      "\n",
      "values for  10 \t\n",
      "1.0009945751278182\t1.0009945751278182\t1.0009945751278182\t1.0009945751278182\t1.0009945751278182\t\n",
      "\n"
     ]
    }
   ],
   "source": [
    "print(\"function dzeta\")\n",
    "for i in s:\n",
    "    print(\"values for \",i,\"\\t\")\n",
    "    for j in n:\n",
    "        print(dzeta(i,j),end=\"\\t\")\n",
    "    print(\"\\n\")"
   ]
  },
  {
   "cell_type": "code",
   "execution_count": 26,
   "id": "5c4e9c86",
   "metadata": {},
   "outputs": [],
   "source": [
    "def eta(s,n):\n",
    "    sum = np.double(0)\n",
    "    for i in range(1 , n+1):\n",
    "        sum += np.power(-1,i)/np.power(np.double(i),np.double(s))\n",
    "    return sum"
   ]
  },
  {
   "cell_type": "code",
   "execution_count": 27,
   "id": "f0814d41",
   "metadata": {},
   "outputs": [
    {
     "name": "stdout",
     "output_type": "stream",
     "text": [
      "function eta\n",
      "values for  2 \t\n",
      "-0.8222710318260295\t-0.8224175333741286\t-0.822454595922551\t-0.8224650374240963\t-0.8224665339241114\t\n",
      "\n",
      "values for  3.6667 \t\n",
      "-0.9346930600307106\t-0.9346933211400662\t-0.9346933421086845\t-0.9346933438558745\t-0.9346933439141353\t\n",
      "\n",
      "values for  5 \t\n",
      "-0.9721197689267979\t-0.9721197703981592\t-0.972119770445367\t-0.9721197704468947\t-0.9721197704469091\t\n",
      "\n",
      "values for  7.2 \t\n",
      "-0.9935270006613486\t-0.9935270006616185\t-0.9935270006616201\t-0.9935270006616201\t-0.9935270006616201\t\n",
      "\n",
      "values for  10 \t\n",
      "-0.9990395075982718\t-0.9990395075982718\t-0.9990395075982718\t-0.9990395075982718\t-0.9990395075982718\t\n",
      "\n"
     ]
    }
   ],
   "source": [
    "print(\"function eta\")\n",
    "for i in s:\n",
    "    print(\"values for \",i,\"\\t\")\n",
    "    for j in n:\n",
    "        print(eta(i,j),end=\"\\t\")\n",
    "    print(\"\\n\")"
   ]
  },
  {
   "cell_type": "code",
   "execution_count": 28,
   "id": "c994c518",
   "metadata": {},
   "outputs": [],
   "source": [
    "def logistic(x,r):\n",
    "    return r * x * (1 - x)"
   ]
  },
  {
   "cell_type": "code",
   "execution_count": 33,
   "id": "f9f1c062",
   "metadata": {},
   "outputs": [],
   "source": [
    "def logistic32(x,r):\n",
    "    return np.float32(r * x * (1 - x))"
   ]
  },
  {
   "cell_type": "code",
   "execution_count": 34,
   "id": "91baf652",
   "metadata": {},
   "outputs": [],
   "source": [
    "x0=0.001\n",
    "n=2000"
   ]
  },
  {
   "cell_type": "code",
   "execution_count": 35,
   "id": "21df57f7",
   "metadata": {},
   "outputs": [],
   "source": [
    "r=np.linspace(1.1,3.9,n)\n",
    "y=[]\n",
    "for ri in r:\n",
    "    x=x0\n",
    "    for i in range(1,n):\n",
    "        x=logistic(x,ri)\n",
    "    y.append(x)"
   ]
  },
  {
   "cell_type": "code",
   "execution_count": 36,
   "id": "84fe1f9b",
   "metadata": {},
   "outputs": [
    {
     "data": {
      "text/plain": [
       "<matplotlib.collections.PathCollection at 0x24566705910>"
      ]
     },
     "execution_count": 36,
     "metadata": {},
     "output_type": "execute_result"
    },
    {
     "data": {
      "image/png": "[encoded data removed]",
      "text/plain": [
       "<Figure size 432x288 with 1 Axes>"
      ]
     },
     "metadata": {
      "needs_background": "light"
     },
     "output_type": "display_data"
    }
   ],
   "source": [
    "plt.scatter(r,y,s=4)"
   ]
  },
  {
   "cell_type": "code",
   "execution_count": 37,
   "id": "670b086f",
   "metadata": {},
   "outputs": [],
   "source": [
    "x0=0.3\n",
    "n=1000\n",
    "r=np.linspace(3.75,3.8,n)"
   ]
  },
  {
   "cell_type": "code",
   "execution_count": 38,
   "id": "341d3d9c",
   "metadata": {},
   "outputs": [],
   "source": [
    "#float32\n",
    "x=np.float32(x0)\n",
    "X32=[]\n",
    "for i in range(n):\n",
    "    x=np.float32(logistic32(x,r[i]))\n",
    "    X32.append(x)"
   ]
  },
  {
   "cell_type": "code",
   "execution_count": 39,
   "id": "303c7d31",
   "metadata": {},
   "outputs": [],
   "source": [
    "#float64\n",
    "x=np.double(x0)\n",
    "X64=[]\n",
    "for i in range(n):\n",
    "    x=np.double(logistic(x,r[i]))\n",
    "    X64.append(x)"
   ]
  },
  {
   "cell_type": "code",
   "execution_count": 43,
   "id": "40120a48",
   "metadata": {},
   "outputs": [
    {
     "data": {
      "text/plain": [
       "<matplotlib.collections.PathCollection at 0x24567218460>"
      ]
     },
     "execution_count": 43,
     "metadata": {},
     "output_type": "execute_result"
    },
    {
     "data": {
      "image/png": "[encoded data removed]",
      "text/plain": [
       "<Figure size 432x288 with 1 Axes>"
      ]
     },
     "metadata": {
      "needs_background": "light"
     },
     "output_type": "display_data"
    }
   ],
   "source": [
    "plt.scatter(r,X32)"
   ]
  },
  {
   "cell_type": "code",
   "execution_count": 45,
   "id": "d7dab120",
   "metadata": {},
   "outputs": [
    {
     "data": {
      "text/plain": [
       "<matplotlib.collections.PathCollection at 0x2456b76bc10>"
      ]
     },
     "execution_count": 45,
     "metadata": {},
     "output_type": "execute_result"
    },
    {
     "data": {
      "image/png": "[encoded data removed]",
      "text/plain": [
       "<Figure size 432x288 with 1 Axes>"
      ]
     },
     "metadata": {
      "needs_background": "light"
     },
     "output_type": "display_data"
    }
   ],
   "source": [
    "plt.scatter(r,X64,color='red')"
   ]
  },
  {
   "cell_type": "markdown",
   "id": "017df455",
   "metadata": {},
   "source": [
    "# Możemy Zauważyć, że trajektorie obliczone dla obu dokładności są od siebie różne. Wynnika to z faktu iż, zadanie to jest źle uwarunkowane. Niewielka zmiana parametrów r i x0 powoduje znaczące zmiany trajektorii. Wówczas zmiana dokładności reprezentacji liczb zmiennoprzecinkowych powoduje zmiany wyników."
   ]
  },
  {
   "cell_type": "code",
   "execution_count": 46,
   "id": "d205066c",
   "metadata": {},
   "outputs": [],
   "source": [
    "#float32\n",
    "def iterations_count(x0,r):\n",
    "    i=0\n",
    "    while x0!=0:\n",
    "        x0=logistic32(x0,r)\n",
    "        i+=1\n",
    "    return i"
   ]
  },
  {
   "cell_type": "code",
   "execution_count": 50,
   "id": "5b882362",
   "metadata": {},
   "outputs": [
    {
     "data": {
      "text/plain": [
       "2406"
      ]
     },
     "execution_count": 50,
     "metadata": {},
     "output_type": "execute_result"
    }
   ],
   "source": [
    "iterations_count(0.6,4)"
   ]
  },
  {
   "cell_type": "code",
   "execution_count": 54,
   "id": "fa8ba53d",
   "metadata": {},
   "outputs": [
    {
     "data": {
      "text/plain": [
       "3010"
      ]
     },
     "execution_count": 54,
     "metadata": {},
     "output_type": "execute_result"
    }
   ],
   "source": [
    "iterations_count(0.7,4)"
   ]
  },
  {
   "cell_type": "code",
   "execution_count": 55,
   "id": "3eb81ae7",
   "metadata": {},
   "outputs": [
    {
     "data": {
      "text/plain": [
       "2406"
      ]
     },
     "execution_count": 55,
     "metadata": {},
     "output_type": "execute_result"
    }
   ],
   "source": [
    "iterations_count(0.4,4)"
   ]
  },
  {
   "cell_type": "code",
   "execution_count": 70,
   "id": "109eaac3",
   "metadata": {},
   "outputs": [
    {
     "data": {
      "text/plain": [
       "885"
      ]
     },
     "execution_count": 70,
     "metadata": {},
     "output_type": "execute_result"
    }
   ],
   "source": [
    "iterations_count(0.92,4)"
   ]
  },
  {
   "cell_type": "code",
   "execution_count": 71,
   "id": "95936d9b",
   "metadata": {},
   "outputs": [
    {
     "data": {
      "text/plain": [
       "1323"
      ]
     },
     "execution_count": 71,
     "metadata": {},
     "output_type": "execute_result"
    }
   ],
   "source": [
    "iterations_count(0.93,4)"
   ]
  },
  {
   "cell_type": "code",
   "execution_count": 72,
   "id": "20e2f63d",
   "metadata": {},
   "outputs": [
    {
     "data": {
      "text/plain": [
       "3416"
      ]
     },
     "execution_count": 72,
     "metadata": {},
     "output_type": "execute_result"
    }
   ],
   "source": [
    "iterations_count(0.94,4)"
   ]
  },
  {
   "cell_type": "code",
   "execution_count": 73,
   "id": "e591c334",
   "metadata": {},
   "outputs": [
    {
     "data": {
      "text/plain": [
       "3543"
      ]
     },
     "execution_count": 73,
     "metadata": {},
     "output_type": "execute_result"
    }
   ],
   "source": [
    "iterations_count(0.95,4)"
   ]
  },
  {
   "cell_type": "code",
   "execution_count": 74,
   "id": "b306e7bb",
   "metadata": {},
   "outputs": [
    {
     "data": {
      "text/plain": [
       "269"
      ]
     },
     "execution_count": 74,
     "metadata": {},
     "output_type": "execute_result"
    }
   ],
   "source": [
    "iterations_count(0.96,4)"
   ]
  },
  {
   "cell_type": "code",
   "execution_count": 75,
   "id": "c4dd72cf",
   "metadata": {},
   "outputs": [
    {
     "data": {
      "text/plain": [
       "29"
      ]
     },
     "execution_count": 75,
     "metadata": {},
     "output_type": "execute_result"
    }
   ],
   "source": [
    "iterations_count(0.97,4)"
   ]
  },
  {
   "cell_type": "code",
   "execution_count": 76,
   "id": "82238c0f",
   "metadata": {},
   "outputs": [
    {
     "data": {
      "text/plain": [
       "984"
      ]
     },
     "execution_count": 76,
     "metadata": {},
     "output_type": "execute_result"
    }
   ],
   "source": [
    "iterations_count(0.98,4)"
   ]
  },
  {
   "cell_type": "code",
   "execution_count": 77,
   "id": "9936e0d9",
   "metadata": {},
   "outputs": [
    {
     "data": {
      "text/plain": [
       "2960"
      ]
     },
     "execution_count": 77,
     "metadata": {},
     "output_type": "execute_result"
    }
   ],
   "source": [
    "iterations_count(0.99,4)"
   ]
  },
  {
   "cell_type": "markdown",
   "id": "2ed3180e",
   "metadata": {},
   "source": [
    "# Możnaby się spodziewać, że wraz z x0 dążącym do 1, liczba iteracji potrzebnych do osiągnięcia 0 będzie spadać. Nie jest to jednak prawda. Możemy zauważyć, że liczba ta rośnie i spada gwałtownie wraz z niewielką zmianą x0. Jest tak dlatego, że odwzorowanie logistyczne powtórzone wielokrotnie jest zadaniem źle uwarunkowanym."
   ]
  },
  {
   "cell_type": "code",
   "execution_count": null,
   "id": "8a8c766e",
   "metadata": {},
   "outputs": [],
   "source": []
  }
 ],
 "metadata": {
  "kernelspec": {
   "display_name": "Python 3 (ipykernel)",
   "language": "python",
   "name": "python3"
  },
  "language_info": {
   "codemirror_mode": {
    "name": "ipython",
    "version": 3
   },
   "file_extension": ".py",
   "mimetype": "text/x-python",
   "name": "python",
   "nbconvert_exporter": "python",
   "pygments_lexer": "ipython3",
   "version": "3.9.12"
  }
 },
 "nbformat": 4,
 "nbformat_minor": 5
}
