{
 "cells": [
  {
   "cell_type": "code",
   "execution_count": null,
   "id": "5524251d",
   "metadata": {},
   "outputs": [],
   "source": [
    "#1\n",
    "arr = [0.001 for i in range(10**7)]"
   ]
  },
  {
   "cell_type": "code",
   "execution_count": null,
   "id": "c32f0b9d",
   "metadata": {},
   "outputs": [],
   "source": [
    "s = 0\n",
    "for t in arr:\n",
    "    s += t\n",
    "print(s)\n",
    "print(sum(arr))"
   ]
  },
  {
   "cell_type": "code",
   "execution_count": null,
   "id": "1da2a305",
   "metadata": {},
   "outputs": [],
   "source": [
    "value = 10**7*0.001\n",
    "err = abs(s - value)\n",
    "print(err)\n",
    "print(err/value*100,'%')"
   ]
  },
  {
   "cell_type": "code",
   "execution_count": null,
   "id": "cb1a8eae",
   "metadata": {},
   "outputs": [],
   "source": [
    "err =[]\n",
    "length=200\n",
    "n = [25 * i for i in range(1,length)]\n",
    "value=0\n",
    "for i in range(1,length):\n",
    "    arr=[0.001 for j in range(25000*i)]\n",
    "    result = i * 25\n",
    "    s=sum(arr)\n",
    "    err.append(abs(s-n[i-1]))"
   ]
  },
  {
   "cell_type": "code",
   "execution_count": null,
   "id": "f15feaec",
   "metadata": {},
   "outputs": [],
   "source": [
    "%matplotlib inline\n",
    "import matplotlib.pyplot as plt\n",
    "import numpy as np\n",
    "import datetime\n",
    "import math"
   ]
  },
  {
   "cell_type": "code",
   "execution_count": null,
   "id": "a258f100",
   "metadata": {},
   "outputs": [],
   "source": [
    "plt.plot(n,err)\n",
    "plt.show()"
   ]
  },
  {
   "cell_type": "code",
   "execution_count": null,
   "id": "1d28e2fc",
   "metadata": {},
   "outputs": [],
   "source": [
    "def treeSum(arr,a,b):\n",
    "    if a<b:\n",
    "        m = (a+b)//2\n",
    "        return treeSum(arr,a,m-1)+treeSum(arr,m+1,b)+arr[m]\n",
    "    elif a==b:\n",
    "        return arr[a]\n",
    "    else:\n",
    "        return 0"
   ]
  },
  {
   "cell_type": "code",
   "execution_count": null,
   "id": "348d9def",
   "metadata": {},
   "outputs": [],
   "source": [
    "arr = [0.001 for i in range(10**7)]"
   ]
  },
  {
   "cell_type": "code",
   "execution_count": null,
   "id": "02f7533f",
   "metadata": {},
   "outputs": [],
   "source": [
    "x=treeSum(arr,0,10**7-1)\n",
    "print(x)"
   ]
  },
  {
   "cell_type": "code",
   "execution_count": null,
   "id": "945ff7e0",
   "metadata": {},
   "outputs": [],
   "source": [
    "value = 10**7*0.001\n",
    "err = abs(x - value)\n",
    "print(err)\n",
    "print(err/value*100,'%')"
   ]
  },
  {
   "cell_type": "code",
   "execution_count": null,
   "id": "b0bfc1a8",
   "metadata": {},
   "outputs": [],
   "source": [
    "start1=datetime.datetime.now()\n",
    "x=treeSum(arr,0,10**7-1)\n",
    "start2=datetime.datetime.now()\n",
    "print(\"TreeSum time:\\t\\t\",start2-start1)\n",
    "x=sum(arr)\n",
    "stop=datetime.datetime.now()\n",
    "print(\"Normal sum time:\\t\",stop-start2)"
   ]
  },
  {
   "cell_type": "code",
   "execution_count": null,
   "id": "05cf5db1",
   "metadata": {},
   "outputs": [],
   "source": [
    "#2 Algorytm Kahana\n",
    "def Kahan(arr):\n",
    "    sum = 0.0\n",
    "    err = 0.0\n",
    "    for i in range(len(arr)):\n",
    "        y = arr[i] - err\n",
    "        temp = sum + y\n",
    "        err = (temp - sum) - y\n",
    "        sum = temp\n",
    "    return sum"
   ]
  },
  {
   "cell_type": "code",
   "execution_count": null,
   "id": "5c8d187f",
   "metadata": {},
   "outputs": [],
   "source": [
    "result=Kahan(arr)\n",
    "print(result)"
   ]
  },
  {
   "cell_type": "code",
   "execution_count": null,
   "id": "360b6ce2",
   "metadata": {},
   "outputs": [],
   "source": [
    "value = 10**7*0.001\n",
    "err = abs(result - value)\n",
    "print(err)\n",
    "print(err/value*100,'%')"
   ]
  },
  {
   "cell_type": "code",
   "execution_count": null,
   "id": "35533026",
   "metadata": {},
   "outputs": [],
   "source": [
    "start1=datetime.datetime.now()\n",
    "x=treeSum(arr,0,10**7-1)\n",
    "start2=datetime.datetime.now()\n",
    "print(\"TreeSum time:\\t\",start2-start1)\n",
    "x=Kahan(arr)\n",
    "stop=datetime.datetime.now()\n",
    "print(\"Kahan sum time:\\t\",stop-start2)"
   ]
  },
  {
   "cell_type": "code",
   "execution_count": null,
   "id": "2cdd686d",
   "metadata": {},
   "outputs": [],
   "source": [
    "#3 Sumy Częściowe\n",
    "def dzeta(s,n):\n",
    "    sum = np.float32(0)\n",
    "    for i in range(1 , n+1):\n",
    "        sum += 1/np.power(np.float32(i),s)\n",
    "    return sum"
   ]
  },
  {
   "cell_type": "code",
   "execution_count": null,
   "id": "c3f4e3cf",
   "metadata": {},
   "outputs": [],
   "source": [
    "def eta(s,n):\n",
    "    sum = np.float32(0)\n",
    "    for i in range(1 , n+1):\n",
    "        sum += np.power(-1,i-1)/math.pow(i,s)\n",
    "    return sum"
   ]
  },
  {
   "cell_type": "code",
   "execution_count": null,
   "id": "8f3835aa",
   "metadata": {},
   "outputs": [],
   "source": [
    "s = [2,3.6667,5,7.2,10]\n",
    "n = [50,100,200,500,1000]"
   ]
  },
  {
   "cell_type": "code",
   "execution_count": null,
   "id": "37fd7015",
   "metadata": {},
   "outputs": [],
   "source": [
    "#single precision\n",
    "print(\"function dzeta\")\n",
    "for i in s:\n",
    "    print(\"values for \",i,\"\\t\")\n",
    "    for j in n:\n",
    "        print(dzeta(i,j),end=\"\\t\")\n",
    "    print(\"\\n\")"
   ]
  },
  {
   "cell_type": "code",
   "execution_count": null,
   "id": "4a97589a",
   "metadata": {},
   "outputs": [],
   "source": [
    "#single precision\n",
    "print(\"function eta\")\n",
    "for i in s:\n",
    "    print(\"values for \",i,\"\\t\")\n",
    "    for j in n:\n",
    "        print(eta(i,j),end=\"\\t\")\n",
    "    print(\"\\n\")"
   ]
  },
  {
   "cell_type": "code",
   "execution_count": null,
   "id": "f8c84ff5",
   "metadata": {},
   "outputs": [],
   "source": [
    "#single precision, backward summing\n",
    "def b_dzeta(s,n):\n",
    "    sum = np.float32(0)\n",
    "    for i in range(n , 0,-1):\n",
    "        sum += 1/np.power(np.float32(i),s)\n",
    "    return sum\n",
    "print(\"function dzeta\")\n",
    "for i in s:\n",
    "    print(\"values for \",i,\"\\t\")\n",
    "    for j in n:\n",
    "        print(b_dzeta(i,j),end=\"\\t\")\n",
    "    print(\"\\n\")"
   ]
  },
  {
   "cell_type": "code",
   "execution_count": null,
   "id": "4110f6a0",
   "metadata": {},
   "outputs": [],
   "source": [
    "#single precision, backward summing\n",
    "def b_eta(s,n):\n",
    "    sum = np.float32(0)\n",
    "    for i in range(n,0,-1):\n",
    "        sum += np.power(-1,i-1)/math.pow(i,s)\n",
    "    return sum\n",
    "print(\"function eta\")\n",
    "for i in s:\n",
    "    print(\"values for \",i,\"\\t\")\n",
    "    for j in n:\n",
    "        print(b_eta(i,j),end=\"\\t\")\n",
    "    print(\"\\n\")"
   ]
  },
  {
   "cell_type": "markdown",
   "id": "f8e302e5",
   "metadata": {},
   "source": [
    "# Gdy dodaję do siebie składniki sumy od tyłu, okazuje się, że wychodzą one różne od tych sumowanych w kolejności wzoru. Dzieje się tak, gdyż w drugim wypadku, do całkowitej sumy dodaję bardzo małe liczby, zwiększając tym samym błąd wyniku. W drugim wypadku, suma jest na początku bardzo mała i w miarę jej rośnięcia dodaję co raz większe liczby."
   ]
  },
  {
   "cell_type": "code",
   "execution_count": null,
   "id": "70e5bac6",
   "metadata": {},
   "outputs": [],
   "source": [
    "#double precision\n",
    "def dzeta(s,n):\n",
    "    sum = np.double(0)\n",
    "    for i in range(1 , n+1):\n",
    "        sum += np.double(1)/np.power(np.double(i),np.double(s))\n",
    "    return sum"
   ]
  },
  {
   "cell_type": "code",
   "execution_count": null,
   "id": "7a1fb03e",
   "metadata": {},
   "outputs": [],
   "source": [
    "print(\"function dzeta\")\n",
    "for i in s:\n",
    "    print(\"values for \",i,\"\\t\")\n",
    "    for j in n:\n",
    "        print(dzeta(i,j),end=\"\\t\")\n",
    "    print(\"\\n\")"
   ]
  },
  {
   "cell_type": "code",
   "execution_count": null,
   "id": "5c4e9c86",
   "metadata": {},
   "outputs": [],
   "source": [
    "def eta(s,n):\n",
    "    sum = np.double(0)\n",
    "    for i in range(1 , n+1):\n",
    "        sum += np.power(-1,i)/np.power(np.double(i),np.double(s))\n",
    "    return sum"
   ]
  },
  {
   "cell_type": "code",
   "execution_count": null,
   "id": "f0814d41",
   "metadata": {},
   "outputs": [],
   "source": [
    "print(\"function eta\")\n",
    "for i in s:\n",
    "    print(\"values for \",i,\"\\t\")\n",
    "    for j in n:\n",
    "        print(eta(i,j),end=\"\\t\")\n",
    "    print(\"\\n\")"
   ]
  },
  {
   "cell_type": "code",
   "execution_count": null,
   "id": "c994c518",
   "metadata": {},
   "outputs": [],
   "source": [
    "def logistic(x,r):\n",
    "    return r * x * (1 - x)"
   ]
  },
  {
   "cell_type": "code",
   "execution_count": null,
   "id": "f9f1c062",
   "metadata": {},
   "outputs": [],
   "source": [
    "def logistic32(x,r):\n",
    "    return np.float32(r * x * (1 - x))"
   ]
  },
  {
   "cell_type": "code",
   "execution_count": null,
   "id": "91baf652",
   "metadata": {},
   "outputs": [],
   "source": [
    "x0=0.001\n",
    "n=2000"
   ]
  },
  {
   "cell_type": "code",
   "execution_count": null,
   "id": "21df57f7",
   "metadata": {},
   "outputs": [],
   "source": [
    "r=np.linspace(1.1,3.9,n)\n",
    "y=[]\n",
    "for ri in r:\n",
    "    x=x0\n",
    "    for i in range(1,n):\n",
    "        x=logistic(x,ri)\n",
    "    y.append(x)"
   ]
  },
  {
   "cell_type": "code",
   "execution_count": null,
   "id": "84fe1f9b",
   "metadata": {},
   "outputs": [],
   "source": [
    "plt.scatter(r,y,s=4)"
   ]
  },
  {
   "cell_type": "code",
   "execution_count": null,
   "id": "670b086f",
   "metadata": {},
   "outputs": [],
   "source": [
    "x0=0.3\n",
    "n=1000\n",
    "r=np.linspace(3.75,3.8,n)"
   ]
  },
  {
   "cell_type": "code",
   "execution_count": null,
   "id": "341d3d9c",
   "metadata": {},
   "outputs": [],
   "source": [
    "#float32\n",
    "x=np.float32(x0)\n",
    "X32=[]\n",
    "for i in range(n):\n",
    "    x=np.float32(logistic32(x,r[i]))\n",
    "    X32.append(x)"
   ]
  },
  {
   "cell_type": "code",
   "execution_count": null,
   "id": "303c7d31",
   "metadata": {},
   "outputs": [],
   "source": [
    "#float64\n",
    "x=np.double(x0)\n",
    "X64=[]\n",
    "for i in range(n):\n",
    "    x=np.double(logistic(x,r[i]))\n",
    "    X64.append(x)"
   ]
  },
  {
   "cell_type": "code",
   "execution_count": null,
   "id": "40120a48",
   "metadata": {},
   "outputs": [],
   "source": [
    "plt.scatter(r,X32)"
   ]
  },
  {
   "cell_type": "code",
   "execution_count": null,
   "id": "d7dab120",
   "metadata": {},
   "outputs": [],
   "source": [
    "plt.scatter(r,X64,color='red')"
   ]
  },
  {
   "cell_type": "markdown",
   "id": "017df455",
   "metadata": {},
   "source": [
    "# Możemy Zauważyć, że trajektorie obliczone dla obu dokładności są od siebie różne. Wynnika to z faktu iż, zadanie to jest źle uwarunkowane. Niewielka zmiana parametrów r i x0 powoduje znaczące zmiany trajektorii. Wówczas zmiana dokładności reprezentacji liczb zmiennoprzecinkowych powoduje zmiany wyników."
   ]
  },
  {
   "cell_type": "code",
   "execution_count": null,
   "id": "d205066c",
   "metadata": {},
   "outputs": [],
   "source": [
    "#float32\n",
    "def iterations_count(x0,r):\n",
    "    i=0\n",
    "    while x0!=0:\n",
    "        x0=logistic32(x0,r)\n",
    "        i+=1\n",
    "    return i"
   ]
  },
  {
   "cell_type": "code",
   "execution_count": null,
   "id": "5b882362",
   "metadata": {},
   "outputs": [],
   "source": [
    "iterations_count(0.6,4)"
   ]
  },
  {
   "cell_type": "code",
   "execution_count": null,
   "id": "fa8ba53d",
   "metadata": {},
   "outputs": [],
   "source": [
    "iterations_count(0.7,4)"
   ]
  },
  {
   "cell_type": "code",
   "execution_count": null,
   "id": "3eb81ae7",
   "metadata": {},
   "outputs": [],
   "source": [
    "iterations_count(0.4,4)"
   ]
  },
  {
   "cell_type": "code",
   "execution_count": null,
   "id": "109eaac3",
   "metadata": {},
   "outputs": [],
   "source": [
    "iterations_count(0.92,4)"
   ]
  },
  {
   "cell_type": "code",
   "execution_count": null,
   "id": "95936d9b",
   "metadata": {},
   "outputs": [],
   "source": [
    "iterations_count(0.93,4)"
   ]
  },
  {
   "cell_type": "code",
   "execution_count": null,
   "id": "20e2f63d",
   "metadata": {},
   "outputs": [],
   "source": [
    "iterations_count(0.94,4)"
   ]
  },
  {
   "cell_type": "code",
   "execution_count": null,
   "id": "e591c334",
   "metadata": {},
   "outputs": [],
   "source": [
    "iterations_count(0.95,4)"
   ]
  },
  {
   "cell_type": "code",
   "execution_count": null,
   "id": "b306e7bb",
   "metadata": {},
   "outputs": [],
   "source": [
    "iterations_count(0.96,4)"
   ]
  },
  {
   "cell_type": "code",
   "execution_count": null,
   "id": "c4dd72cf",
   "metadata": {},
   "outputs": [],
   "source": [
    "iterations_count(0.97,4)"
   ]
  },
  {
   "cell_type": "code",
   "execution_count": null,
   "id": "82238c0f",
   "metadata": {},
   "outputs": [],
   "source": [
    "iterations_count(0.98,4)"
   ]
  },
  {
   "cell_type": "code",
   "execution_count": null,
   "id": "9936e0d9",
   "metadata": {},
   "outputs": [],
   "source": [
    "iterations_count(0.99,4)"
   ]
  },
  {
   "cell_type": "markdown",
   "id": "2ed3180e",
   "metadata": {},
   "source": [
    "# Możnaby się spodziewać, że wraz z x0 dążącym do 1, liczba iteracji potrzebnych do osiągnięcia 0 będzie spadać. Nie jest to jednak prawda. Możemy zauważyć, że liczba ta rośnie i spada gwałtownie wraz z niewielką zmianą x0. Jest tak dlatego, że odwzorowanie logistyczne powtórzone wielokrotnie jest zadaniem źle uwarunkowanym."
   ]
  },
  {
   "cell_type": "code",
   "execution_count": null,
   "id": "8a8c766e",
   "metadata": {},
   "outputs": [],
   "source": []
  }
 ],
 "metadata": {
  "kernelspec": {
   "display_name": "Python 3 (ipykernel)",
   "language": "python",
   "name": "python3"
  },
  "language_info": {
   "codemirror_mode": {
    "name": "ipython",
    "version": 3
   },
   "file_extension": ".py",
   "mimetype": "text/x-python",
   "name": "python",
   "nbconvert_exporter": "python",
   "pygments_lexer": "ipython3",
   "version": "3.9.12"
  }
 },
 "nbformat": 4,
 "nbformat_minor": 5
}
