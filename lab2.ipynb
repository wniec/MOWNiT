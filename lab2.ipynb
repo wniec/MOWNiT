{
 "cells": [
  {
   "cell_type": "code",
   "execution_count": 31,
   "id": "51cc70a9",
   "metadata": {},
   "outputs": [],
   "source": [
    "import numpy as np\n",
    "import networkx as nx\n",
    "import datetime\n",
    "import matplotlib.pyplot as plt"
   ]
  },
  {
   "cell_type": "code",
   "execution_count": 4,
   "id": "e6061196",
   "metadata": {},
   "outputs": [],
   "source": [
    "#zadanie 1\n",
    "#Funkcja działająca na macierzach zaimplementowanych w numpy\n",
    "def gauss_solve(A):\n",
    "    inversions=[i for i in range(len(A))]\n",
    "    for i in range(len(A)):\n",
    "        max_i=i\n",
    "        for j in range(i,len(A)):\n",
    "            if abs(A[max_i][i])<abs(A[j][i]):\n",
    "                max_i = j\n",
    "        best_row=np.copy(A[max_i])\n",
    "        A[[i,max_i]]=A[[max_i,i]]#Zamieniam wiersze miejscami, tak, aby na górze było zawsze to o największej wartości bezwzględnej\n",
    "        inversions[i],inversions[max_i]=inversions[max_i],inversions[i]\n",
    "        for j in range(i+1,len(A)):\n",
    "            first_non_zero=A[j][i]\n",
    "            A[j]-=best_row*first_non_zero/best_row[i]\n",
    "    #uzyskałem macierz trójkątną górną\n",
    "    #teraz z niej uzyskuję wyniki\n",
    "    for i in range(len(A)-1,-1,-1):\n",
    "        for j in range(i-1,-1,-1):\n",
    "            last_non_zero=A[j][i]\n",
    "            A[j]-=A[i]*last_non_zero/A[i][i]\n",
    "    for i in range(len(A)):\n",
    "        A[i]/=A[i][i]\n",
    "    result=A[:,-1]\n",
    "    result1=np.zeros((len(A),))\n",
    "    for i,r in enumerate(inversions):\n",
    "        result1[r]=result[i]\n",
    "    return result"
   ]
  },
  {
   "cell_type": "code",
   "execution_count": 5,
   "id": "043c4de0",
   "metadata": {},
   "outputs": [],
   "source": [
    "M=np.random.random((30,31))"
   ]
  },
  {
   "cell_type": "code",
   "execution_count": 6,
   "id": "1ed2ffdc",
   "metadata": {},
   "outputs": [
    {
     "data": {
      "text/plain": [
       "array([[6.62515422e-01, 1.41090591e-01, 9.48488245e-01, 5.88595221e-01,\n",
       "        2.18806316e-01, 7.36598354e-02, 5.54776956e-01, 9.70308068e-02,\n",
       "        8.21765837e-01, 3.95645118e-01, 1.52401498e-03, 9.74503109e-01,\n",
       "        8.93283227e-01, 1.95964862e-02, 1.21047600e-01, 5.55772617e-01,\n",
       "        9.20860533e-01, 2.51381903e-01, 6.57878167e-01, 9.36379161e-01,\n",
       "        4.56683307e-01, 5.70364993e-01, 9.13152334e-01, 9.15026813e-01,\n",
       "        2.62363674e-01, 1.79996902e-01, 9.44172846e-02, 2.19982564e-01,\n",
       "        6.36849728e-01, 4.60631622e-01, 8.31650580e-01],\n",
       "       [5.26925627e-01, 3.65409058e-01, 3.83701753e-01, 9.72739528e-01,\n",
       "        7.40971024e-02, 5.32709563e-01, 6.19361670e-01, 8.86319692e-01,\n",
       "        3.62004677e-01, 2.66231979e-01, 4.49782675e-01, 5.77891029e-01,\n",
       "        6.70183663e-01, 9.60620308e-01, 4.48425748e-01, 7.46551153e-01,\n",
       "        1.66840151e-01, 9.08832357e-01, 6.42296010e-01, 7.57941917e-01,\n",
       "        8.87451061e-01, 2.98441044e-01, 9.62838538e-01, 1.97559304e-01,\n",
       "        9.96408442e-01, 4.55041085e-01, 3.91867262e-01, 5.83716521e-01,\n",
       "        9.14573073e-01, 2.96203373e-01, 4.69410647e-01],\n",
       "       [5.76278105e-01, 1.79559547e-01, 1.66664300e-01, 7.78624977e-01,\n",
       "        5.43703036e-01, 8.26631850e-01, 5.25495348e-01, 9.20865271e-02,\n",
       "        4.32237815e-01, 3.35462053e-01, 7.93281278e-01, 2.68133508e-01,\n",
       "        7.93896507e-01, 7.59835986e-01, 9.83046241e-01, 7.23657621e-01,\n",
       "        1.54884738e-01, 6.77738732e-01, 8.60538352e-01, 6.67324298e-01,\n",
       "        1.80640044e-01, 2.33711861e-02, 2.27109823e-01, 5.76004888e-01,\n",
       "        1.50448068e-01, 6.21911898e-01, 6.95409946e-02, 6.16383673e-02,\n",
       "        7.73799233e-01, 6.85718012e-01, 8.88263500e-01],\n",
       "       [7.21606968e-01, 2.05023428e-01, 4.56304106e-01, 1.71098834e-01,\n",
       "        4.61583225e-01, 4.00345683e-01, 6.89980553e-01, 8.67403730e-01,\n",
       "        3.78389698e-01, 8.83337001e-01, 9.41596404e-02, 5.87312638e-01,\n",
       "        2.28024029e-01, 6.84186432e-02, 5.58833873e-01, 1.92530740e-01,\n",
       "        6.78565806e-01, 9.11186516e-01, 3.32011617e-01, 1.43192890e-01,\n",
       "        4.98970980e-01, 4.28534137e-01, 8.35468156e-01, 2.41693650e-01,\n",
       "        1.93605626e-01, 9.76522162e-01, 3.33438092e-01, 1.65366532e-01,\n",
       "        4.95808673e-01, 3.71398436e-01, 8.00156073e-01],\n",
       "       [8.27996423e-01, 3.21986844e-01, 3.08780624e-01, 5.38948114e-01,\n",
       "        5.59691476e-01, 3.56126428e-01, 5.51474673e-01, 4.69476126e-01,\n",
       "        3.71261014e-01, 2.59408594e-01, 9.70893748e-01, 8.20527725e-01,\n",
       "        5.84641414e-01, 3.07186900e-01, 7.27251207e-01, 7.25065969e-01,\n",
       "        3.09491380e-01, 3.62596642e-01, 6.70054289e-01, 4.37179089e-01,\n",
       "        5.53606241e-01, 3.15055322e-01, 2.09284453e-01, 5.24938052e-01,\n",
       "        9.15586363e-01, 9.67336719e-01, 8.34070596e-01, 7.98377603e-01,\n",
       "        5.36193960e-01, 6.46220648e-01, 4.26596983e-01],\n",
       "       [1.34903969e-02, 1.93772993e-01, 7.98995182e-01, 7.37945910e-01,\n",
       "        2.32209574e-01, 2.72652514e-01, 4.55930675e-01, 5.21644444e-01,\n",
       "        3.41037501e-01, 1.43194135e-04, 1.42878758e-01, 8.59650820e-01,\n",
       "        3.49028028e-02, 1.29081634e-01, 9.31224137e-01, 1.92745832e-01,\n",
       "        9.20044278e-01, 6.41054133e-02, 5.71274196e-01, 7.28511638e-01,\n",
       "        5.18591446e-01, 5.79810869e-01, 1.35912498e-01, 3.20360746e-01,\n",
       "        3.63638864e-01, 3.59948975e-01, 8.36338892e-01, 6.04112321e-01,\n",
       "        1.00227444e-01, 5.10813385e-01, 4.03028211e-01],\n",
       "       [2.28973845e-01, 3.85199409e-01, 1.31367073e-01, 1.01636862e-01,\n",
       "        2.20277931e-01, 3.82119336e-01, 4.36947950e-01, 8.77911564e-01,\n",
       "        3.23340133e-01, 9.08723412e-01, 2.90472327e-01, 4.46147038e-01,\n",
       "        7.94917523e-01, 9.24569412e-01, 6.05886312e-01, 5.13992026e-01,\n",
       "        3.33903376e-01, 2.05073762e-01, 4.39072491e-01, 4.16232732e-01,\n",
       "        3.83935383e-02, 7.15998545e-01, 5.54804839e-01, 3.46218999e-01,\n",
       "        2.72102869e-01, 3.70722442e-01, 7.20940964e-01, 3.94593402e-01,\n",
       "        8.35797425e-01, 7.57183149e-01, 8.39920309e-01],\n",
       "       [3.85267307e-01, 5.75840798e-01, 1.81268971e-01, 9.99304082e-01,\n",
       "        9.40580632e-01, 8.62572328e-01, 7.90506381e-01, 5.62497680e-01,\n",
       "        4.29054658e-01, 7.11309975e-01, 7.94829339e-01, 8.07103180e-01,\n",
       "        8.62862407e-01, 8.32610852e-02, 5.07868072e-03, 8.74474897e-01,\n",
       "        5.59948940e-01, 6.37440080e-01, 6.61799969e-01, 1.17008074e-01,\n",
       "        5.29576206e-01, 1.17408845e-01, 8.42200416e-01, 8.72387458e-01,\n",
       "        7.65005110e-01, 8.19917578e-01, 5.20141419e-01, 8.08187413e-01,\n",
       "        7.93021224e-01, 6.21781126e-01, 8.85370640e-01],\n",
       "       [2.96469682e-01, 2.51433967e-01, 3.30635080e-01, 9.55491505e-01,\n",
       "        4.03970797e-01, 8.83007001e-01, 2.25091049e-02, 2.41382300e-01,\n",
       "        1.92344781e-02, 4.42600573e-02, 8.59298201e-01, 9.64194158e-01,\n",
       "        3.37811007e-01, 4.04765157e-02, 5.71382465e-01, 6.53211623e-01,\n",
       "        5.79059362e-01, 5.09724926e-01, 7.22276649e-01, 9.45731019e-01,\n",
       "        4.17738985e-02, 7.02405223e-01, 3.67577691e-01, 1.07119286e-01,\n",
       "        9.82597957e-01, 7.56311206e-01, 9.65426409e-01, 2.22573681e-01,\n",
       "        7.98682145e-01, 1.19747409e-01, 1.67489640e-02],\n",
       "       [7.29346248e-01, 2.08836634e-01, 6.82818995e-01, 5.20706048e-01,\n",
       "        7.37847238e-01, 3.88002242e-01, 1.52151211e-01, 9.41559221e-01,\n",
       "        7.12625630e-01, 9.37843425e-01, 1.94889930e-01, 4.92000729e-01,\n",
       "        5.92483018e-02, 4.32565673e-01, 9.71059870e-01, 1.44865628e-01,\n",
       "        8.39239154e-01, 7.91994198e-01, 8.59178855e-01, 9.96237971e-01,\n",
       "        1.70675599e-01, 9.23857969e-01, 5.46687989e-01, 7.16729792e-01,\n",
       "        8.39867012e-01, 8.15589927e-01, 1.46547740e-01, 8.21524060e-01,\n",
       "        2.93821190e-02, 4.89681078e-01, 2.00582877e-01],\n",
       "       [6.68276002e-01, 1.82747345e-01, 4.03711222e-01, 3.31659011e-01,\n",
       "        7.30532325e-01, 4.68026773e-01, 1.92051669e-01, 3.50843102e-01,\n",
       "        7.23528940e-01, 1.48996771e-01, 8.92196166e-01, 2.30235204e-01,\n",
       "        4.64518383e-01, 4.87909565e-01, 5.15636737e-01, 7.67002413e-01,\n",
       "        8.87758908e-01, 5.77569848e-01, 2.93157972e-01, 2.34934376e-01,\n",
       "        2.65582591e-02, 2.43633312e-01, 3.51180609e-01, 1.51220437e-01,\n",
       "        8.08242898e-01, 2.71816105e-01, 2.65489672e-01, 6.22244884e-01,\n",
       "        7.62096935e-01, 2.10963611e-01, 8.15820259e-01],\n",
       "       [7.76841566e-01, 5.58690929e-01, 3.52583333e-01, 5.95673460e-01,\n",
       "        3.24222289e-02, 9.54422190e-01, 4.94086503e-01, 5.13653485e-01,\n",
       "        4.97873704e-01, 4.00767733e-01, 8.75910842e-01, 7.16111371e-01,\n",
       "        4.70542060e-01, 6.73618179e-01, 1.85027338e-02, 8.51619192e-01,\n",
       "        8.06482795e-01, 6.57261579e-01, 5.11517215e-01, 3.72557962e-02,\n",
       "        7.68356510e-01, 1.51693475e-01, 9.24594237e-01, 3.67942848e-01,\n",
       "        5.33854207e-01, 4.36008748e-02, 9.06265973e-01, 2.20666810e-01,\n",
       "        5.69670561e-01, 6.32990536e-01, 7.42045916e-01],\n",
       "       [8.10788411e-01, 7.99058340e-01, 4.51433822e-02, 4.76433823e-01,\n",
       "        9.29192260e-01, 3.69281915e-01, 2.55450519e-02, 5.25435515e-01,\n",
       "        9.81981349e-01, 5.72982458e-01, 2.48313661e-01, 4.51887329e-01,\n",
       "        7.28512971e-01, 8.65595466e-01, 5.89705041e-01, 6.59751083e-01,\n",
       "        6.09928889e-01, 3.26529196e-01, 8.33348596e-01, 2.16439863e-01,\n",
       "        7.50059478e-01, 7.76974165e-01, 9.14429855e-01, 1.91513610e-01,\n",
       "        8.95992899e-01, 5.44852230e-01, 6.17639841e-01, 9.58888911e-01,\n",
       "        7.10500424e-01, 9.66362482e-01, 3.47336491e-01],\n",
       "       [3.83567907e-01, 4.27195368e-01, 4.75216075e-01, 2.69027693e-01,\n",
       "        7.26779739e-01, 8.94883756e-01, 7.13214238e-01, 6.17182968e-01,\n",
       "        8.58000062e-01, 3.51713460e-01, 2.98101840e-01, 2.55625172e-02,\n",
       "        2.98573961e-01, 5.80703533e-01, 2.95375062e-01, 4.44927798e-02,\n",
       "        1.72182676e-01, 6.26802867e-01, 6.14262290e-01, 8.48603189e-02,\n",
       "        9.89658290e-02, 3.84367391e-01, 3.37526680e-01, 6.93183763e-01,\n",
       "        6.74682558e-01, 6.74892859e-01, 5.67089907e-01, 9.65202496e-01,\n",
       "        5.68820156e-01, 7.10934401e-01, 2.92045713e-01],\n",
       "       [1.35990210e-01, 7.14257916e-01, 8.00791146e-01, 1.90925706e-02,\n",
       "        4.13976714e-01, 1.86720768e-01, 5.29444316e-01, 3.50618530e-01,\n",
       "        8.18977211e-01, 9.34622677e-01, 3.52496653e-01, 2.56165343e-03,\n",
       "        6.95198272e-01, 7.37775783e-02, 1.76873409e-01, 6.06189105e-01,\n",
       "        3.00334662e-01, 3.99324395e-01, 2.62362273e-01, 8.25180028e-01,\n",
       "        8.44131202e-01, 5.28096089e-01, 5.12042490e-02, 9.19168427e-01,\n",
       "        2.62364839e-01, 4.77159348e-01, 2.88777129e-01, 6.58390591e-01,\n",
       "        5.33994541e-02, 7.14602348e-01, 2.81841931e-01],\n",
       "       [5.78933874e-01, 9.87017852e-01, 8.79852608e-01, 9.94911246e-01,\n",
       "        6.97669303e-01, 9.68411787e-01, 8.43873347e-01, 9.51674580e-01,\n",
       "        8.93584140e-01, 1.69358741e-01, 9.29369767e-01, 4.45639554e-01,\n",
       "        3.72888028e-01, 2.08662898e-02, 8.38800277e-01, 6.10683056e-01,\n",
       "        2.55973807e-01, 4.61161096e-01, 8.08773407e-01, 8.76927089e-01,\n",
       "        9.20671765e-01, 9.30089436e-01, 8.64270122e-01, 6.87615482e-01,\n",
       "        8.92428660e-02, 8.04599380e-01, 8.35600616e-01, 1.57216940e-01,\n",
       "        3.45084887e-01, 5.95618831e-01, 2.03991914e-01],\n",
       "       [1.70317631e-01, 6.52993867e-01, 1.62564432e-01, 8.96295424e-01,\n",
       "        2.43225198e-01, 4.47833935e-02, 4.21767376e-01, 6.75244856e-01,\n",
       "        9.52764888e-01, 3.60029276e-01, 8.96159084e-01, 2.99837437e-01,\n",
       "        8.93585762e-01, 1.01000349e-01, 3.06707250e-01, 4.19861533e-01,\n",
       "        3.44057818e-01, 8.36815033e-01, 8.88105391e-01, 7.44675520e-01,\n",
       "        4.84864675e-01, 7.39942510e-01, 6.91213342e-01, 4.62001831e-01,\n",
       "        2.31525379e-01, 6.49095373e-01, 5.75646553e-01, 3.02415848e-01,\n",
       "        6.62634130e-01, 6.29152996e-02, 6.36384368e-01],\n",
       "       [9.78399994e-01, 2.81712570e-01, 8.86120003e-01, 3.56296892e-01,\n",
       "        1.20909000e-01, 2.51967835e-01, 2.01190622e-01, 7.74163371e-01,\n",
       "        1.00021573e-01, 1.67784806e-01, 9.79232650e-01, 3.83934487e-01,\n",
       "        8.09010122e-01, 2.80354499e-02, 5.73379604e-01, 4.40250737e-01,\n",
       "        4.96908225e-01, 8.10024298e-02, 4.25196591e-01, 7.32977509e-01,\n",
       "        7.80748923e-01, 9.76042223e-01, 9.64227220e-01, 5.92543219e-02,\n",
       "        1.33179328e-01, 8.91373991e-01, 5.85757790e-01, 5.21723168e-01,\n",
       "        4.37133611e-01, 2.35080058e-01, 3.41490661e-01],\n",
       "       [1.75221567e-01, 7.14839587e-01, 6.04142137e-01, 4.78249497e-01,\n",
       "        1.14973015e-01, 8.16677070e-01, 3.77567184e-01, 7.25798298e-01,\n",
       "        7.57045197e-01, 2.28962064e-01, 7.98936340e-01, 9.86976436e-01,\n",
       "        5.98207547e-03, 1.12165063e-01, 3.26921238e-01, 6.08727677e-01,\n",
       "        2.47038840e-01, 8.00605626e-01, 2.46331382e-01, 6.82289253e-01,\n",
       "        3.03701538e-01, 8.80316910e-01, 2.74060159e-01, 7.90692008e-01,\n",
       "        2.77769723e-01, 2.04375465e-01, 3.55033599e-01, 1.04783888e-01,\n",
       "        7.91495804e-01, 2.68568792e-01, 9.80020737e-01],\n",
       "       [8.41138840e-01, 7.92115542e-01, 7.95508590e-01, 5.92089898e-01,\n",
       "        1.03104999e-01, 1.73736752e-01, 5.25141521e-01, 7.01124410e-01,\n",
       "        9.46010976e-01, 4.49352456e-01, 4.81213276e-01, 3.28429436e-01,\n",
       "        3.92842497e-01, 5.47724875e-01, 8.35199008e-01, 2.83722938e-01,\n",
       "        8.44824686e-01, 8.60213594e-01, 7.91085953e-01, 5.98559863e-01,\n",
       "        3.70476210e-01, 1.48892044e-01, 4.25442411e-01, 2.47452806e-01,\n",
       "        2.10647710e-01, 1.24924184e-01, 5.78954650e-01, 4.13468379e-01,\n",
       "        6.18989755e-02, 5.64333498e-03, 7.46955059e-01],\n",
       "       [9.91593954e-01, 7.57812569e-01, 3.68932644e-02, 1.76110040e-01,\n",
       "        4.14172703e-01, 4.55850162e-01, 3.03425416e-01, 8.64004261e-01,\n",
       "        3.22008167e-01, 6.06949106e-01, 2.16619003e-01, 4.22327082e-01,\n",
       "        1.91126422e-01, 4.19147669e-01, 3.92128666e-01, 3.76066312e-01,\n",
       "        9.02708543e-01, 8.32109230e-01, 1.16307811e-01, 5.67969761e-01,\n",
       "        6.35883118e-01, 4.44276945e-01, 7.80797283e-01, 7.33912534e-01,\n",
       "        8.11409362e-01, 6.65809991e-01, 3.83296300e-01, 3.84110338e-01,\n",
       "        8.76207346e-01, 8.43608384e-01, 8.76355967e-01],\n",
       "       [8.61453189e-01, 3.36259742e-01, 9.06184273e-01, 3.80649879e-02,\n",
       "        2.81347855e-01, 5.35771408e-01, 6.11325336e-01, 5.36685572e-01,\n",
       "        8.63940612e-01, 6.72412311e-01, 4.63511755e-01, 4.24938176e-01,\n",
       "        9.07306852e-01, 2.09902576e-01, 4.76353385e-01, 3.70501602e-01,\n",
       "        8.43210497e-01, 6.57659202e-01, 5.49480891e-01, 2.93236156e-01,\n",
       "        1.14000924e-01, 4.64717894e-01, 8.45825683e-01, 5.91565935e-01,\n",
       "        7.89674745e-01, 9.94900445e-01, 3.33656208e-01, 8.35507335e-01,\n",
       "        4.00810881e-01, 5.50223671e-01, 7.48485274e-01],\n",
       "       [5.32983605e-01, 2.15163867e-02, 3.85696784e-02, 4.28339689e-02,\n",
       "        8.96683916e-01, 8.84344057e-01, 7.07888346e-01, 5.64253206e-01,\n",
       "        7.82771471e-01, 3.84607808e-01, 2.84675936e-01, 1.18057681e-01,\n",
       "        1.55228307e-01, 6.59505025e-01, 7.52802091e-01, 9.38219320e-01,\n",
       "        7.30677135e-01, 6.79696814e-01, 4.12814659e-01, 7.97432815e-01,\n",
       "        3.24920698e-01, 8.80791694e-01, 6.90393021e-01, 4.93647358e-01,\n",
       "        7.79598064e-01, 3.00508437e-02, 3.84513839e-01, 3.76385164e-01,\n",
       "        8.83731596e-01, 8.43952289e-01, 1.34923982e-01],\n",
       "       [2.73476323e-01, 9.38519939e-01, 2.69331780e-01, 7.00739977e-01,\n",
       "        4.95683039e-01, 4.57988860e-01, 1.99471031e-01, 3.02481951e-01,\n",
       "        6.65133684e-01, 9.37389805e-01, 8.87437175e-01, 8.86593956e-01,\n",
       "        9.77160090e-01, 5.14099087e-01, 7.30474629e-01, 3.25600270e-01,\n",
       "        6.74720994e-02, 5.67606218e-01, 2.70971789e-01, 9.96007161e-01,\n",
       "        4.20634896e-01, 4.20092352e-02, 1.99201796e-01, 1.21254121e-01,\n",
       "        4.44883036e-01, 3.19829009e-01, 6.44519520e-01, 5.23537688e-01,\n",
       "        4.12508527e-01, 1.36985168e-01, 4.16390989e-01],\n",
       "       [3.39522734e-01, 3.93006462e-02, 5.02165276e-01, 8.76922307e-01,\n",
       "        9.16953815e-01, 6.98723173e-01, 3.23135271e-01, 8.62836781e-01,\n",
       "        4.54089699e-01, 7.82514141e-01, 5.58750459e-01, 3.39961525e-01,\n",
       "        8.89902320e-01, 6.66578717e-01, 4.34374911e-01, 5.85537969e-01,\n",
       "        9.32581864e-01, 7.17118923e-01, 3.18168276e-01, 4.31896815e-01,\n",
       "        4.03581061e-01, 5.28203118e-01, 8.56607625e-01, 5.37391305e-01,\n",
       "        8.82901984e-01, 4.34050233e-01, 1.05463282e-01, 3.92599298e-01,\n",
       "        8.87017346e-02, 3.36253606e-01, 8.66735846e-01],\n",
       "       [9.45018388e-01, 3.86337347e-01, 9.94097988e-01, 9.54515564e-01,\n",
       "        6.83017940e-01, 7.55638770e-01, 1.60369961e-02, 5.97466564e-01,\n",
       "        5.59615284e-01, 4.07815091e-01, 9.58647867e-01, 4.58794896e-01,\n",
       "        1.30805478e-01, 1.12186138e-01, 5.93527076e-01, 4.07360449e-01,\n",
       "        9.08734823e-01, 3.82921591e-01, 3.53618737e-02, 5.20876163e-01,\n",
       "        5.23342813e-01, 6.25304653e-01, 8.02334105e-01, 9.71583377e-01,\n",
       "        4.30330149e-01, 9.11240277e-01, 9.45859003e-01, 5.80790932e-02,\n",
       "        5.43168244e-01, 2.33622363e-01, 3.76547834e-01],\n",
       "       [4.65613333e-01, 6.13141524e-01, 7.07556759e-01, 4.16991737e-01,\n",
       "        3.06604877e-01, 2.43002532e-01, 2.39616015e-01, 8.22748259e-01,\n",
       "        2.34036545e-02, 8.20858016e-01, 1.81048737e-01, 9.94653675e-01,\n",
       "        7.88371770e-01, 9.57315759e-01, 6.72649917e-01, 6.32531793e-01,\n",
       "        9.48857875e-02, 3.59558588e-01, 8.03550567e-01, 2.36249925e-01,\n",
       "        4.42362148e-01, 7.48922022e-01, 7.22552848e-01, 2.62382766e-01,\n",
       "        5.11062282e-01, 5.44456793e-01, 7.40235696e-01, 3.18911630e-01,\n",
       "        8.39838319e-01, 1.58274938e-01, 3.80165515e-01],\n",
       "       [7.96005674e-01, 1.40079455e-01, 7.00252377e-01, 1.76462408e-01,\n",
       "        8.12377844e-01, 8.40349504e-01, 7.10356865e-01, 5.01283572e-01,\n",
       "        2.02596894e-01, 7.27887002e-01, 2.74495946e-01, 6.73236344e-02,\n",
       "        4.41239203e-01, 4.55233520e-01, 1.77482449e-01, 8.78780984e-02,\n",
       "        6.62171849e-01, 9.82625163e-01, 5.34491067e-01, 4.79203761e-01,\n",
       "        5.65110372e-02, 9.43618082e-01, 8.59337837e-01, 6.31140329e-01,\n",
       "        7.85054666e-01, 8.69987732e-01, 5.19909020e-01, 6.91620946e-01,\n",
       "        4.20632961e-01, 3.85760329e-01, 7.25081990e-01],\n",
       "       [9.21040855e-01, 9.84866606e-02, 7.89993812e-01, 6.65017101e-01,\n",
       "        7.38158757e-01, 1.45540939e-02, 2.14384020e-01, 4.63788734e-01,\n",
       "        3.86889755e-01, 4.52526061e-01, 4.68385073e-01, 6.10459910e-01,\n",
       "        9.78721882e-01, 7.46081017e-01, 2.90511968e-01, 3.92460835e-01,\n",
       "        6.37789006e-01, 9.06076505e-01, 3.58287712e-01, 6.51717217e-01,\n",
       "        8.97588232e-01, 4.58133407e-01, 1.38339953e-01, 7.43258755e-01,\n",
       "        5.71648435e-01, 9.75840371e-01, 6.20269014e-01, 2.69921986e-01,\n",
       "        4.93252328e-01, 6.06993442e-01, 8.30766951e-01],\n",
       "       [4.74361778e-02, 7.39428285e-01, 4.66790028e-01, 9.75937660e-01,\n",
       "        8.45345856e-01, 2.38184296e-02, 6.47544849e-01, 6.89663679e-01,\n",
       "        1.36499325e-01, 9.67532968e-01, 6.33348038e-02, 7.64418756e-02,\n",
       "        7.48159940e-01, 3.79881766e-01, 8.78694871e-01, 3.32752824e-01,\n",
       "        4.68497608e-01, 4.13999005e-01, 6.43764641e-01, 9.68928495e-02,\n",
       "        9.46574580e-01, 9.33097832e-01, 7.22643310e-01, 3.26629274e-01,\n",
       "        4.75527967e-01, 5.39963300e-01, 1.09748757e-02, 3.51798592e-02,\n",
       "        2.09748940e-01, 8.15456454e-01, 5.81168391e-01]])"
      ]
     },
     "execution_count": 6,
     "metadata": {},
     "output_type": "execute_result"
    }
   ],
   "source": [
    "M"
   ]
  },
  {
   "cell_type": "code",
   "execution_count": 9,
   "id": "e5d3af8d",
   "metadata": {},
   "outputs": [
    {
     "name": "stdout",
     "output_type": "stream",
     "text": [
      "[ 0.36266703  0.88559902 -1.16499224  0.50204804 -0.69041151  0.55382147\n",
      "  1.96235831 -0.54608752  0.42847777  0.17459976  0.22321694  0.6153737\n",
      " -0.20757573  2.05752291 -0.95603949 -0.07982809  1.91711368 -1.4087088\n",
      " -0.61842243 -0.12444501  0.22319811  1.18951466 -1.34729309 -0.1360064\n",
      " -0.60804613  1.74517652 -1.53124189 -0.03687417  0.050634   -1.54836898]\n"
     ]
    }
   ],
   "source": [
    "result=gauss_solve(np.copy(M))\n",
    "print(result)"
   ]
  },
  {
   "cell_type": "code",
   "execution_count": 10,
   "id": "d45b2ed3",
   "metadata": {},
   "outputs": [
    {
     "data": {
      "text/plain": [
       "array([0.83165058, 0.46941065, 0.8882635 , 0.80015607, 0.42659698,\n",
       "       0.40302821, 0.83992031, 0.88537064, 0.01674896, 0.20058288,\n",
       "       0.81582026, 0.74204592, 0.34733649, 0.29204571, 0.28184193,\n",
       "       0.20399191, 0.63638437, 0.34149066, 0.98002074, 0.74695506,\n",
       "       0.87635597, 0.74848527, 0.13492398, 0.41639099, 0.86673585,\n",
       "       0.37654783, 0.38016551, 0.72508199, 0.83076695, 0.58116839])"
      ]
     },
     "execution_count": 10,
     "metadata": {},
     "output_type": "execute_result"
    }
   ],
   "source": [
    "M[:,-1]#B"
   ]
  },
  {
   "cell_type": "code",
   "execution_count": 11,
   "id": "ae8f4124",
   "metadata": {},
   "outputs": [
    {
     "data": {
      "text/plain": [
       "array([[0.83165058],\n",
       "       [0.46941065],\n",
       "       [0.8882635 ],\n",
       "       [0.80015607],\n",
       "       [0.42659698],\n",
       "       [0.40302821],\n",
       "       [0.83992031],\n",
       "       [0.88537064],\n",
       "       [0.01674896],\n",
       "       [0.20058288],\n",
       "       [0.81582026],\n",
       "       [0.74204592],\n",
       "       [0.34733649],\n",
       "       [0.29204571],\n",
       "       [0.28184193],\n",
       "       [0.20399191],\n",
       "       [0.63638437],\n",
       "       [0.34149066],\n",
       "       [0.98002074],\n",
       "       [0.74695506],\n",
       "       [0.87635597],\n",
       "       [0.74848527],\n",
       "       [0.13492398],\n",
       "       [0.41639099],\n",
       "       [0.86673585],\n",
       "       [0.37654783],\n",
       "       [0.38016551],\n",
       "       [0.72508199],\n",
       "       [0.83076695],\n",
       "       [0.58116839]])"
      ]
     },
     "execution_count": 11,
     "metadata": {},
     "output_type": "execute_result"
    }
   ],
   "source": [
    "np.dot(np.copy(M)[:,:30],result.reshape(30,1))#Mnożę macierz współczynników, przez wektor wyniku,\n",
    "#aby zweryfikować go. Wychodzi równy ostatniej kolumnie macierzy"
   ]
  },
  {
   "cell_type": "code",
   "execution_count": 135,
   "id": "8a9dd785",
   "metadata": {},
   "outputs": [],
   "source": [
    "sizes=[600+200*i for i in range(10)]"
   ]
  },
  {
   "cell_type": "code",
   "execution_count": 136,
   "id": "bc5f9891",
   "metadata": {},
   "outputs": [],
   "source": [
    "own_times=[]\n",
    "lib_times=[]\n",
    "for s in sizes:\n",
    "    M=np.random.random((s,s+1))\n",
    "    start=datetime.datetime.now()\n",
    "    A=gauss_solve(M)\n",
    "    stop=datetime.datetime.now()\n",
    "    own_times.append((stop-start).microseconds//1000)#datetime ma dokładność do nanosekund, więc ucinam zera na końcu\n",
    "    start=datetime.datetime.now()\n",
    "    A=np.linalg.solve(M[:,:s],M[:,-1])\n",
    "    stop=datetime.datetime.now()\n",
    "    lib_times.append((stop-start).microseconds//1000)"
   ]
  },
  {
   "cell_type": "code",
   "execution_count": 138,
   "id": "4b3b990d",
   "metadata": {},
   "outputs": [
    {
     "data": {
      "image/png": "[encoded data removed]",
      "text/plain": [
       "<Figure size 432x288 with 1 Axes>"
      ]
     },
     "metadata": {
      "needs_background": "light"
     },
     "output_type": "display_data"
    }
   ],
   "source": [
    "plt.plot(sizes,own_times,color='green')\n",
    "plt.plot(sizes,lib_times,color='red')\n",
    "plt.title(\"Czas działania algorytmu dla danych danych\")\n",
    "plt.xlabel(\"Matrix size\")\n",
    "plt.ylabel(\"time [ns]\")\n",
    "plt.show()"
   ]
  },
  {
   "cell_type": "code",
   "execution_count": 27,
   "id": "3647fa90",
   "metadata": {},
   "outputs": [],
   "source": [
    "#zadanie 2\n",
    "#faktoryzacja macierzy kwadratowej metodą Doolittle'a\n",
    "def factorize(M):\n",
    "    size=M.shape[0]\n",
    "    L=np.identity(size)\n",
    "    U=np.zeros((size,size))\n",
    "    for i in range(size):\n",
    "        for j in range(i,size):\n",
    "            sub_sum=0\n",
    "            for k in range(i):\n",
    "                sub_sum+=L[i][k]*U[k][j]\n",
    "            U[i][j]=M[i][j]-sub_sum\n",
    "        for j in range(i+1,size):\n",
    "            sub_sum=0\n",
    "            for k in range(i):\n",
    "                sub_sum+=L[j][k]*U[k][i]\n",
    "            L[j][i]=(M[j][i]-sub_sum)/U[i][i]\n",
    "    return L,U"
   ]
  },
  {
   "cell_type": "code",
   "execution_count": 28,
   "id": "dd90d664",
   "metadata": {},
   "outputs": [
    {
     "name": "stdout",
     "output_type": "stream",
     "text": [
      "[[5 3 2]\n",
      " [1 2 0]\n",
      " [3 0 4]]\n",
      "[[ 1.          0.          0.        ]\n",
      " [ 0.2         1.          0.        ]\n",
      " [ 0.6        -1.28571429  1.        ]]\n",
      "[[ 5.          3.          2.        ]\n",
      " [ 0.          1.4        -0.4       ]\n",
      " [ 0.          0.          2.28571429]]\n"
     ]
    },
    {
     "data": {
      "text/plain": [
       "array([[0., 0., 0.],\n",
       "       [0., 0., 0.],\n",
       "       [0., 0., 0.]])"
      ]
     },
     "execution_count": 28,
     "metadata": {},
     "output_type": "execute_result"
    }
   ],
   "source": [
    "M=np.array([[5,3,2],[1,2,0],[3,0,4]])\n",
    "print(M)\n",
    "print(factorize(M)[0])\n",
    "print(factorize(M)[1])"
   ]
  },
  {
   "cell_type": "code",
   "execution_count": 30,
   "id": "96a613cd",
   "metadata": {},
   "outputs": [
    {
     "name": "stdout",
     "output_type": "stream",
     "text": [
      "[[ 0.00000000e+00  0.00000000e+00  0.00000000e+00  0.00000000e+00\n",
      "   0.00000000e+00]\n",
      " [ 0.00000000e+00  0.00000000e+00  0.00000000e+00  0.00000000e+00\n",
      "   0.00000000e+00]\n",
      " [ 0.00000000e+00  1.11022302e-16 -2.66453526e-15  6.66133815e-16\n",
      "  -2.44249065e-15]\n",
      " [ 0.00000000e+00  0.00000000e+00  5.55111512e-16  3.33066907e-16\n",
      "   2.88657986e-15]\n",
      " [ 1.11022302e-16  0.00000000e+00 -1.33226763e-15  8.88178420e-16\n",
      "  -1.33226763e-15]]\n"
     ]
    }
   ],
   "source": [
    "M=np.random.random((5,5))\n",
    "L,U=factorize(M)\n",
    "print(M-np.dot(L,U))"
   ]
  },
  {
   "cell_type": "markdown",
   "id": "e54ec8b3",
   "metadata": {},
   "source": [
    "# Możemy uznać, że funkcja factorize działa poprawnie.\n",
    "W każdym wierszu w każdej kolumnie wychodzą wartośći 0 lub bliskie 0."
   ]
  },
  {
   "cell_type": "markdown",
   "id": "45c1f810",
   "metadata": {},
   "source": [
    "### zadanie 3\n",
    "a)\n",
    "Plik zawierający graf musi mieć postać:<br>\n",
    "v1 u1 w1<br>\n",
    "v2 u2 w2<br>\n",
    "v3 u3 w3<br>\n",
    ".  .  .<br>\n",
    ".  .  .<br>\n",
    "gdzie ui i vi to wierzcholki grafu, a wi to wagi krawędzi między nimi"
   ]
  },
  {
   "cell_type": "code",
   "execution_count": 32,
   "id": "be39e5e1",
   "metadata": {},
   "outputs": [],
   "source": [
    "\n",
    "def read_graph(name):\n",
    "    L=[]\n",
    "    with open(name,'r') as file:\n",
    "        lines=file.readlines()\n",
    "        for l in lines:\n",
    "            s=l.split()\n",
    "            u,v,w=int(s[0]),int(s[1]),int(s[2])\n",
    "            L.append((u,v,w))\n",
    "    G=nx.Graph()\n",
    "    for u,v,w in L:\n",
    "        G.add_edge(u-1, v-1, weight=w)\n",
    "    return G"
   ]
  },
  {
   "cell_type": "code",
   "execution_count": 107,
   "id": "ed8de931",
   "metadata": {},
   "outputs": [],
   "source": [
    "def random_graph(n):\n",
    "    G=nx.gnm_random_graph(n,np.random.randint(n,n*(n-1)//2))\n",
    "    for e in G.edges():\n",
    "        G[e[0]][e[1]]['weight']=np.random.random()\n",
    "    return G"
   ]
  },
  {
   "cell_type": "code",
   "execution_count": 79,
   "id": "3e51d995",
   "metadata": {},
   "outputs": [],
   "source": [
    "def cycles(G):\n",
    "    #Biblioteczna funkcja cycle_basis zwraca tylko cykle rozłączne.\n",
    "    #Jest ich dokładnie tyle, aby nasz układ równań był określony.\n",
    "    return [[i for i in c] for c in nx.cycle_basis(G)]"
   ]
  },
  {
   "cell_type": "code",
   "execution_count": 281,
   "id": "aee080a8",
   "metadata": {},
   "outputs": [],
   "source": [
    "#R=U/I\n",
    "#I=U/R\n",
    "#U=R*I\n",
    "def prepare_matrix(G,s,t,E):\n",
    "    weights=nx.get_edge_attributes(G,'weight')\n",
    "    if not (G.has_edge(s,t)or G.has_edge(t,s)):\n",
    "        G.add_edge(s,t)\n",
    "    n_list=[[n for n in G.neighbors(i)]for i in range(len(G))]\n",
    "    edges=[ t for t in G.edges()]\n",
    "    edges_dict=dict()\n",
    "    n=len(n_list)\n",
    "    m=len(edges)\n",
    "    for i in range(m):\n",
    "        edges_dict[edges[i]]=i\n",
    "    c=cycles(G)\n",
    "    A=np.zeros((m+1,m+1))\n",
    "    B=np.zeros((m+1,))\n",
    "    #dodaję do układu równań równania wynikające z drugiego prawa kirchoffa\n",
    "    for i in range(len(c)):\n",
    "        cycle=c[i]\n",
    "        cycle_edges=zip(cycle,cycle[1:]+[cycle[0]])\n",
    "        for e in cycle_edges:\n",
    "            norm_e=(min(e),max(e))\n",
    "            if e == (s,t):\n",
    "                B[i]= -E\n",
    "            elif e == (t,s):\n",
    "                B[i]= E\n",
    "            else:\n",
    "                e_index=edges_dict[norm_e]\n",
    "                if e in edges_dict:\n",
    "                    A[i][e_index]=weights[norm_e]\n",
    "                else:\n",
    "                    A[i][e_index]=-weights[norm_e]\n",
    "    #dodaję do układu równań równania wynikające z pierwszego prawa kirchoffa\n",
    "    for i in range(n):\n",
    "        for j in n_list[i]:\n",
    "            if j>i:\n",
    "                e=(i,j)\n",
    "                e_index=edges_dict[e]\n",
    "                A[len(c)+i,e_index]=1\n",
    "            else:\n",
    "                e=(j,i)\n",
    "                e_index=edges_dict[e]\n",
    "                A[len(c)+i,e_index]=-1\n",
    "    return A[:m,:m],B[:m],edges_dict\n",
    "            "
   ]
  },
  {
   "cell_type": "code",
   "execution_count": 339,
   "id": "62647849",
   "metadata": {},
   "outputs": [
    {
     "ename": "SyntaxError",
     "evalue": "invalid syntax (548006337.py, line 7)",
     "output_type": "error",
     "traceback": [
      "\u001b[1;36m  Input \u001b[1;32mIn [339]\u001b[1;36m\u001b[0m\n\u001b[1;33m    nx.draw(I_graph, pos,,with_labels=True, node_color='b', edgelist=edges, edge_color=weights, width=10.0, edge_cmap=plt.cm.summer)\u001b[0m\n\u001b[1;37m                         ^\u001b[0m\n\u001b[1;31mSyntaxError\u001b[0m\u001b[1;31m:\u001b[0m invalid syntax\n"
     ]
    }
   ],
   "source": [
    "def show(G,e,I):\n",
    "    I_graph=G.copy(as_view=True)\n",
    "    for edge in I_graph.edges():\n",
    "        I_graph[edge[0]][edge[1]]['weight']=I[e[edge]]\n",
    "    edges,weights = zip(*nx.get_edge_attributes(I_graph,'weight').items())\n",
    "    pos = nx.spring_layout(I_graph)\n",
    "    nx.draw(I_graph, pos,,with_labels=True, node_color='b', edgelist=edges, edge_color=weights, width=10.0, edge_cmap=plt.cm.summer)"
   ]
  },
  {
   "cell_type": "code",
   "execution_count": 341,
   "id": "f93e0bcc",
   "metadata": {
    "scrolled": true
   },
   "outputs": [
    {
     "data": {
      "image/png": "[encoded data removed]",
      "text/plain": [
       "<Figure size 432x288 with 1 Axes>"
      ]
     },
     "metadata": {},
     "output_type": "display_data"
    }
   ],
   "source": [
    "G=random_graph(7)\n",
    "edges,weights = zip(*nx.get_edge_attributes(G,'weight').items())\n",
    "pos = nx.spring_layout(G)\n",
    "nx.draw(G, pos, node_color='b',with_labels=True, edgelist=edges, edge_color=weights, width=10.0, edge_cmap=plt.cm.summer)\n",
    "A,B,e=prepare_matrix(G,0,1,2)\n",
    "I=np.linalg.solve(A,B)"
   ]
  },
  {
   "cell_type": "code",
   "execution_count": 342,
   "id": "cd1e3aa0",
   "metadata": {},
   "outputs": [
    {
     "data": {
      "image/png": "[encoded data removed]",
      "text/plain": [
       "<Figure size 432x288 with 1 Axes>"
      ]
     },
     "metadata": {},
     "output_type": "display_data"
    }
   ],
   "source": [
    "show(G,e,I)"
   ]
  },
  {
   "cell_type": "code",
   "execution_count": 265,
   "id": "a071ea80",
   "metadata": {},
   "outputs": [
    {
     "data": {
      "text/plain": [
       "array([[ 0.        ,  0.21619676,  0.        , -0.45280125,  0.        ,\n",
       "         0.        ],\n",
       "       [ 0.85880077,  0.        ,  0.        ,  0.        , -0.767896  ,\n",
       "         0.        ],\n",
       "       [ 0.85880077, -0.21619676,  0.        ,  0.        ,  0.        ,\n",
       "         0.52457972],\n",
       "       [ 1.        ,  1.        ,  1.        ,  0.        ,  0.        ,\n",
       "         0.        ],\n",
       "       [ 0.        ,  0.        , -1.        ,  1.        ,  1.        ,\n",
       "         0.        ],\n",
       "       [-1.        ,  0.        ,  0.        ,  0.        , -1.        ,\n",
       "         1.        ]])"
      ]
     },
     "execution_count": 265,
     "metadata": {},
     "output_type": "execute_result"
    }
   ],
   "source": [
    "A"
   ]
  },
  {
   "cell_type": "code",
   "execution_count": 246,
   "id": "9671ef04",
   "metadata": {},
   "outputs": [
    {
     "data": {
      "text/plain": [
       "EdgeView([(0, 1), (0, 2), (0, 3), (1, 2), (1, 3)])"
      ]
     },
     "execution_count": 246,
     "metadata": {},
     "output_type": "execute_result"
    }
   ],
   "source": [
    "G.edges"
   ]
  },
  {
   "cell_type": "code",
   "execution_count": 266,
   "id": "199fd82b",
   "metadata": {},
   "outputs": [],
   "source": []
  },
  {
   "cell_type": "code",
   "execution_count": 328,
   "id": "e05aaa98",
   "metadata": {},
   "outputs": [],
   "source": [
    "def visualize(G):\n",
    "    edges,weights = zip(*nx.get_edge_attributes(G,'weight').items())\n",
    "    pos = nx.spring_layout(G)\n",
    "    nx.draw(G, pos, node_color='b', edgelist=edges, edge_color=weights, width=10.0, edge_cmap=plt.cm.summer)"
   ]
  },
  {
   "cell_type": "code",
   "execution_count": 331,
   "id": "6b9f3975",
   "metadata": {},
   "outputs": [
    {
     "data": {
      "image/png": "[encoded data removed]",
      "text/plain": [
       "<Figure size 432x288 with 1 Axes>"
      ]
     },
     "metadata": {},
     "output_type": "display_data"
    }
   ],
   "source": [
    "visualize(G)"
   ]
  },
  {
   "cell_type": "code",
   "execution_count": null,
   "id": "0e9812c1",
   "metadata": {},
   "outputs": [],
   "source": []
  }
 ],
 "metadata": {
  "kernelspec": {
   "display_name": "Python 3 (ipykernel)",
   "language": "python",
   "name": "python3"
  },
  "language_info": {
   "codemirror_mode": {
    "name": "ipython",
    "version": 3
   },
   "file_extension": ".py",
   "mimetype": "text/x-python",
   "name": "python",
   "nbconvert_exporter": "python",
   "pygments_lexer": "ipython3",
   "version": "3.9.12"
  }
 },
 "nbformat": 4,
 "nbformat_minor": 5
}
