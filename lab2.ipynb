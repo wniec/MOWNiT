{
 "cells": [
  {
   "cell_type": "code",
   "execution_count": null,
   "id": "51cc70a9",
   "metadata": {},
   "outputs": [],
   "source": [
    "import numpy as np\n",
    "import networkx as nx\n",
    "import datetime\n",
    "%matplotlib inline\n",
    "import matplotlib.pyplot as plt"
   ]
  },
  {
   "cell_type": "code",
   "execution_count": null,
   "id": "e6061196",
   "metadata": {},
   "outputs": [],
   "source": [
    "#zadanie 1\n",
    "#Funkcja działająca na macierzach zaimplementowanych w numpy\n",
    "def gauss_solve(A):\n",
    "    inversions=[i for i in range(len(A))]\n",
    "    for i in range(len(A)):\n",
    "        max_i=i\n",
    "        for j in range(i,len(A)):\n",
    "            if abs(A[max_i][i])<abs(A[j][i]):\n",
    "                max_i = j\n",
    "        best_row=np.copy(A[max_i])\n",
    "        A[[i,max_i]]=A[[max_i,i]]#Zamieniam wiersze miejscami, tak, aby na górze było zawsze to o największej wartości bezwzględnej\n",
    "        inversions[i],inversions[max_i]=inversions[max_i],inversions[i]\n",
    "        for j in range(i+1,len(A)):\n",
    "            first_non_zero=A[j][i]\n",
    "            A[j]-=best_row*first_non_zero/best_row[i]\n",
    "    #uzyskałem macierz trójkątną górną\n",
    "    #teraz z niej uzyskuję wyniki\n",
    "    for i in range(len(A)-1,-1,-1):\n",
    "        for j in range(i-1,-1,-1):\n",
    "            last_non_zero=A[j][i]\n",
    "            A[j]-=A[i]*last_non_zero/A[i][i]\n",
    "    for i in range(len(A)):\n",
    "        A[i]/=A[i][i]\n",
    "    result=A[:,-1]\n",
    "    result1=np.zeros((len(A),))\n",
    "    for i,r in enumerate(inversions):\n",
    "        result1[r]=result[i]\n",
    "    return result"
   ]
  },
  {
   "cell_type": "code",
   "execution_count": null,
   "id": "043c4de0",
   "metadata": {},
   "outputs": [],
   "source": [
    "M=np.random.random((30,31))"
   ]
  },
  {
   "cell_type": "code",
   "execution_count": null,
   "id": "1ed2ffdc",
   "metadata": {},
   "outputs": [],
   "source": [
    "M"
   ]
  },
  {
   "cell_type": "code",
   "execution_count": null,
   "id": "e5d3af8d",
   "metadata": {},
   "outputs": [],
   "source": [
    "result=gauss_solve(np.copy(M))\n",
    "print(result)"
   ]
  },
  {
   "cell_type": "code",
   "execution_count": null,
   "id": "d45b2ed3",
   "metadata": {},
   "outputs": [],
   "source": [
    "M[:,-1]#B"
   ]
  },
  {
   "cell_type": "code",
   "execution_count": null,
   "id": "ae8f4124",
   "metadata": {},
   "outputs": [],
   "source": [
    "np.dot(np.copy(M)[:,:30],result.reshape(30,1))#Mnożę macierz współczynników, przez wektor wyniku,\n",
    "#aby zweryfikować go. Wychodzi równy ostatniej kolumnie macierzy"
   ]
  },
  {
   "cell_type": "code",
   "execution_count": null,
   "id": "8a9dd785",
   "metadata": {},
   "outputs": [],
   "source": [
    "sizes=[600+200*i for i in range(10)]"
   ]
  },
  {
   "cell_type": "code",
   "execution_count": null,
   "id": "bc5f9891",
   "metadata": {},
   "outputs": [],
   "source": [
    "own_times=[]\n",
    "lib_times=[]\n",
    "for s in sizes:\n",
    "    M=np.random.random((s,s+1))\n",
    "    start=datetime.datetime.now()\n",
    "    A=gauss_solve(M)\n",
    "    stop=datetime.datetime.now()\n",
    "    own_times.append((stop-start).microseconds//1000)#datetime ma dokładność do nanosekund, więc ucinam zera na końcu\n",
    "    start=datetime.datetime.now()\n",
    "    A=np.linalg.solve(M[:,:s],M[:,-1])\n",
    "    stop=datetime.datetime.now()\n",
    "    lib_times.append((stop-start).microseconds//1000)"
   ]
  },
  {
   "cell_type": "code",
   "execution_count": null,
   "id": "4b3b990d",
   "metadata": {},
   "outputs": [],
   "source": [
    "plt.plot(sizes,own_times,color='green')\n",
    "plt.plot(sizes,lib_times,color='red')\n",
    "plt.title(\"Czas działania algorytmu dla danych danych\")\n",
    "plt.xlabel(\"Matrix size\")\n",
    "plt.ylabel(\"time [ns]\")\n",
    "plt.show()"
   ]
  },
  {
   "cell_type": "code",
   "execution_count": null,
   "id": "3647fa90",
   "metadata": {},
   "outputs": [],
   "source": [
    "#zadanie 2\n",
    "#faktoryzacja macierzy kwadratowej metodą Doolittle'a\n",
    "def factorize(M):\n",
    "    size=M.shape[0]\n",
    "    L=np.identity(size)\n",
    "    U=np.zeros((size,size))\n",
    "    for i in range(size):\n",
    "        for j in range(i,size):\n",
    "            sub_sum=0\n",
    "            for k in range(i):\n",
    "                sub_sum+=L[i][k]*U[k][j]\n",
    "            U[i][j]=M[i][j]-sub_sum\n",
    "        for j in range(i+1,size):\n",
    "            sub_sum=0\n",
    "            for k in range(i):\n",
    "                sub_sum+=L[j][k]*U[k][i]\n",
    "            L[j][i]=(M[j][i]-sub_sum)/U[i][i]\n",
    "    return L,U"
   ]
  },
  {
   "cell_type": "code",
   "execution_count": null,
   "id": "dd90d664",
   "metadata": {},
   "outputs": [],
   "source": [
    "M=np.array([[5,3,2],[1,2,0],[3,0,4]])\n",
    "print(M)\n",
    "print(factorize(M)[0])\n",
    "print(factorize(M)[1])"
   ]
  },
  {
   "cell_type": "code",
   "execution_count": null,
   "id": "96a613cd",
   "metadata": {},
   "outputs": [],
   "source": [
    "M=np.random.random((5,5))\n",
    "L,U=factorize(M)\n",
    "print(M-np.dot(L,U))"
   ]
  },
  {
   "cell_type": "markdown",
   "id": "e54ec8b3",
   "metadata": {},
   "source": [
    "# Możemy uznać, że funkcja factorize działa poprawnie.\n",
    "W każdym wierszu w każdej kolumnie wychodzą wartośći 0 lub bliskie 0."
   ]
  },
  {
   "cell_type": "markdown",
   "id": "45c1f810",
   "metadata": {},
   "source": [
    "### zadanie 3\n",
    "a)\n",
    "Plik zawierający graf musi mieć postać:<br>\n",
    "v1 u1 w1<br>\n",
    "v2 u2 w2<br>\n",
    "v3 u3 w3<br>\n",
    ".  .  .<br>\n",
    ".  .  .<br>\n",
    "gdzie ui i vi to wierzcholki grafu, a wi to wagi krawędzi między nimi"
   ]
  },
  {
   "cell_type": "code",
   "execution_count": null,
   "id": "be39e5e1",
   "metadata": {},
   "outputs": [],
   "source": [
    "def read_graph(name):\n",
    "    L=[]\n",
    "    with open(name,'r') as file:\n",
    "        lines=file.readlines()\n",
    "        for l in lines:\n",
    "            s=l.split()\n",
    "            u,v,w=int(s[0]),int(s[1]),int(s[2])\n",
    "            L.append((u,v,w))\n",
    "    G=nx.Graph()\n",
    "    for u,v,w in L:\n",
    "        G.add_edge(u-1, v-1, weight=w)\n",
    "    return G"
   ]
  },
  {
   "cell_type": "code",
   "execution_count": null,
   "id": "f49e1ecb",
   "metadata": {},
   "outputs": [],
   "source": [
    "def randomize_resistance(G):\n",
    "    for e in G.edges():\n",
    "        G[e[0]][e[1]]['weight']=np.random.random()"
   ]
  },
  {
   "cell_type": "code",
   "execution_count": null,
   "id": "ed8de931",
   "metadata": {},
   "outputs": [],
   "source": [
    "def random_graph(n):\n",
    "    G=nx.gnp_random_graph(n,np.random.randint(n,n*(n-1)//2))\n",
    "    randomize_resistance(G)\n",
    "    return G"
   ]
  },
  {
   "cell_type": "code",
   "execution_count": null,
   "id": "3e51d995",
   "metadata": {},
   "outputs": [],
   "source": [
    "def cycles(G):\n",
    "    #Biblioteczna funkcja cycle_basis zwraca tylko cykle rozłączne.\n",
    "    #Jest ich dokładnie tyle, aby nasz układ równań był określony.\n",
    "    return [[i for i in c] for c in nx.cycle_basis(G)]"
   ]
  },
  {
   "cell_type": "code",
   "execution_count": null,
   "id": "aee080a8",
   "metadata": {},
   "outputs": [],
   "source": [
    "#R=U/I\n",
    "#I=U/R\n",
    "#U=R*I\n",
    "def prepare_matrix(G,s,t,E):\n",
    "    weights=nx.get_edge_attributes(G,'weight')\n",
    "    if not (G.has_edge(s,t)or G.has_edge(t,s)):\n",
    "        G.add_edge(s,t)\n",
    "    n_list=[[n for n in G.neighbors(i)]for i in range(len(G))]\n",
    "    edges=[ t for t in G.edges()]\n",
    "    edges_dict=dict()\n",
    "    n=len(n_list)\n",
    "    m=len(edges)\n",
    "    for i in range(m):\n",
    "        edges_dict[edges[i]]=i\n",
    "    c=cycles(G)\n",
    "    A=np.zeros((n+len(c),n+len(c)))\n",
    "    B=np.zeros((n+len(c),))\n",
    "    #dodaję do układu równań równania wynikające z drugiego prawa kirchoffa\n",
    "    for i in range(len(c)):\n",
    "        cycle=c[i]\n",
    "        cycle_edges=zip(cycle,cycle[1:]+[cycle[0]])\n",
    "        for e in cycle_edges:\n",
    "            norm_e=(min(e),max(e))\n",
    "            if e == (s,t):\n",
    "                B[i]= -E\n",
    "            elif e == (t,s):\n",
    "                B[i]= E\n",
    "            else:\n",
    "                e_index=edges_dict[norm_e]\n",
    "                if e in edges_dict:\n",
    "                    A[i][e_index]=weights[norm_e]\n",
    "                else:\n",
    "                    A[i][e_index]=-weights[norm_e]\n",
    "            if e == (cycle[0],cycle[1]):\n",
    "                B[i]*=-1\n",
    "    #dodaję do układu równań równania wynikające z pierwszego prawa kirchoffa\n",
    "    for i in range(n):\n",
    "        for j in n_list[i]:\n",
    "            if j>i:\n",
    "                e=(i,j)\n",
    "                e_index=edges_dict[e]\n",
    "                A[len(c)+i,e_index]=1\n",
    "            else:\n",
    "                e=(j,i)\n",
    "                e_index=edges_dict[e]\n",
    "                A[len(c)+i,e_index]=-1\n",
    "    if G.has_edge(s,t):\n",
    "        G[s][t]['weight']=0\n",
    "    else:\n",
    "        G[t][s]['weight']=0\n",
    "    return A[:m,:m],B[:m],edges_dict\n",
    "            "
   ]
  },
  {
   "cell_type": "code",
   "execution_count": null,
   "id": "b1ac41c6",
   "metadata": {},
   "outputs": [],
   "source": [
    "#funkcja generująca graf skierowany natężeń prądu\n",
    "def to_directed(G):\n",
    "    N=nx.DiGraph()\n",
    "    for edge in G.edges():\n",
    "        intensity=G[edge[0]][edge[1]]['weight']\n",
    "        if intensity > 0:\n",
    "            N.add_edge(edge[0],edge[1])\n",
    "            N[edge[0]][edge[1]]['weight']=intensity\n",
    "        else:\n",
    "            N.add_edge(edge[1],edge[0])\n",
    "            N[edge[1]][edge[0]]['weight']=-intensity\n",
    "    return N\n",
    "    "
   ]
  },
  {
   "cell_type": "code",
   "execution_count": null,
   "id": "e6f0d363",
   "metadata": {},
   "outputs": [],
   "source": [
    "def adjust(G,e,I):\n",
    "    I_graph=G.copy(as_view=True)\n",
    "    for edge in I_graph.edges():\n",
    "        I_graph[edge[0]][edge[1]]['weight']=I[e[edge]]\n",
    "    return to_directed(I_graph)"
   ]
  },
  {
   "cell_type": "code",
   "execution_count": null,
   "id": "62647849",
   "metadata": {},
   "outputs": [],
   "source": [
    "#funkcja przygotowująca i prezentująca na podstawie wektora  rozwiązań, gotowy graf natężeń\n",
    "def show(I_graph,pos):\n",
    "    e_labels = dict([((n1, n2), round(d['weight'],2)) for n1, n2, d in I_graph.edges(data=True)])\n",
    "    edges,weights = zip(*nx.get_edge_attributes(I_graph,'weight').items())\n",
    "    fig = plt.figure(1, figsize=(25, 20))\n",
    "    nx.draw(I_graph, pos,with_labels=True, node_color='b', edgelist=edges, edge_color=weights, width=10.0, edge_cmap=plt.cm.cividis)\n",
    "    nx.draw_networkx_edge_labels(I_graph,pos,edge_labels=e_labels,font_color='blue')\n",
    "    plt.show()"
   ]
  },
  {
   "cell_type": "code",
   "execution_count": null,
   "id": "2c707847",
   "metadata": {},
   "outputs": [],
   "source": [
    "#inicjalizacja danych zadania\n",
    "G=random_graph(7)\n",
    "s=0\n",
    "t=1\n",
    "E=2\n",
    "pos = nx.spring_layout(G)"
   ]
  },
  {
   "cell_type": "code",
   "execution_count": null,
   "id": "f93e0bcc",
   "metadata": {
    "scrolled": true
   },
   "outputs": [],
   "source": [
    "show(G,pos)"
   ]
  },
  {
   "cell_type": "code",
   "execution_count": null,
   "id": "cd1e3aa0",
   "metadata": {},
   "outputs": [],
   "source": [
    "#Prezentacja grafu skierowanego natężeń i obliczenie rozwiązania\n",
    "def solve_graph(G,s,t,E):\n",
    "    A,B,e=prepare_matrix(G,s,t,E)#macierz wynika z układów równań\n",
    "    I=np.linalg.solve(A,B)#wektor rozwiązań\n",
    "    I_graph=adjust(G,e,I)\n",
    "    return I_graph\n",
    "solution = solve_graph(G.copy(),s,t,E)\n",
    "show(solution,pos)"
   ]
  },
  {
   "cell_type": "code",
   "execution_count": null,
   "id": "a071ea80",
   "metadata": {},
   "outputs": [],
   "source": [
    "def check_graph(G,R,s,t,E):\n",
    "    #Sprawdzenie, czy dla obwodu zachodzi pierwsze prawo kirchoffa\n",
    "    n_list=[[n for n in G.neighbors(i)]for i in range(len(G))]\n",
    "    Nodes_sum=[0 for n in n_list]\n",
    "    for edge in G.edges():\n",
    "        Nodes_sum[edge[0]]-=G[edge[0]][edge[1]]['weight']\n",
    "        Nodes_sum[edge[1]]+=G[edge[0]][edge[1]]['weight']\n",
    "    for n in Nodes_sum:\n",
    "        if abs(n) > 10**(-13):\n",
    "            return False\n",
    "    cycles = nx.simple_cycles(G)\n",
    "    G_edges= set(G.edges)\n",
    "    #Sprawdzenie, czy dla obwodu zachodzi drugie prawo kirchoffa\n",
    "    for cycle in cycles:\n",
    "        cycle_edges=zip(cycle,cycle[1:]+[cycle[0]])\n",
    "        cycle_sum = 0\n",
    "        for edge in cycle_edges:\n",
    "            if edge == (s,t):\n",
    "                U=E\n",
    "            elif edge == (t,s):\n",
    "                U=-E\n",
    "            else:\n",
    "                if (edge[0],edge[1]) in G_edges:\n",
    "                    U=G[edge[0]][edge[1]]['weight']*R[edge[0]][edge[1]]['weight']\n",
    "                else:\n",
    "                    U=-G[edge[1]][edge[0]]['weight']*R[edge[0]][edge[1]]['weight']\n",
    "            if edge == (cycle[-1],cycle[1]):\n",
    "                U*=-1\n",
    "            cycle_sum +=U\n",
    "        if abs(cycle_sum) > 10**(-13):\n",
    "            return cycle_sum\n",
    "    return False\n",
    "    "
   ]
  },
  {
   "cell_type": "code",
   "execution_count": null,
   "id": "9671ef04",
   "metadata": {},
   "outputs": [],
   "source": [
    "check_graph(solution,G,s,t,E)#wartość false oznacza brak błędu"
   ]
  },
  {
   "cell_type": "code",
   "execution_count": null,
   "id": "5603cde9",
   "metadata": {},
   "outputs": [],
   "source": [
    "def double_random_graph(n):\n",
    "    A = random_graph(n//2)\n",
    "    B = random_graph(n//2)\n",
    "    x=len(A.nodes)\n",
    "    for edge in B.edges:\n",
    "        A.add_edge(edge[0]+x,edge[1]+x)\n",
    "    A.add_edge(0,x)\n",
    "    randomize_resistance(A)\n",
    "    return A"
   ]
  },
  {
   "cell_type": "code",
   "execution_count": null,
   "id": "9210d897",
   "metadata": {},
   "outputs": [],
   "source": [
    "def grid_graph(n):\n",
    "    G = nx.grid_graph(dim=[int(np.sqrt(n)),int(np.sqrt(n))+1], periodic=False)\n",
    "    mapping = dict(zip(G, range(int(np.sqrt(n))*(int(np.sqrt(n))+1))))\n",
    "    G = nx.relabel_nodes(G, mapping)\n",
    "    #liczba wierzchołków jest bliska n\n",
    "    randomize_resistance(G)\n",
    "    return G"
   ]
  },
  {
   "cell_type": "code",
   "execution_count": null,
   "id": "10280aa8",
   "metadata": {},
   "outputs": [],
   "source": [
    "def small_world_graph(n):\n",
    "    G = nx.watts_strogatz_graph(n, 4, 0.2)\n",
    "    randomize_resistance(G)\n",
    "    return G"
   ]
  },
  {
   "cell_type": "code",
   "execution_count": null,
   "id": "199fd82b",
   "metadata": {},
   "outputs": [],
   "source": [
    "graph_types = [random_graph,double_random_graph,grid_graph,small_world_graph]\n",
    "graph_sizes = [15, 30, 60 ,120 ,200]"
   ]
  },
  {
   "cell_type": "code",
   "execution_count": null,
   "id": "e9c3f03f",
   "metadata": {},
   "outputs": [],
   "source": [
    "def test():\n",
    "    #AUTOMATYCZNE TESTOWANIE I WIZUALIZACJA GRAFÓW\n",
    "    G=nx.cubical_graph()\n",
    "    randomize_resistance(G)\n",
    "    E=np.random.random()*10\n",
    "    solution = solve_graph(G.copy(),0,1,E)\n",
    "    pos = nx.spring_layout(G)\n",
    "    show(G,pos)\n",
    "    show(solution,pos)\n",
    "    checking = check_graph(solution,G,0,1,E)\n",
    "    if checking:\n",
    "        print(\"BŁĄD PROGRAMU: NIEWŁAŚCIWE ROZWIĄZANIE \",checking)\n",
    "    for gt in graph_types:\n",
    "        for size in graph_sizes:\n",
    "            G=gt(size)\n",
    "            randomize_resistance(G)\n",
    "            E=np.random.random()*10\n",
    "            pos = nx.spring_layout(G)\n",
    "            show(G,pos)\n",
    "            solution = solve_graph(G.copy(),0,1,E)\n",
    "            show(solution,pos)\n",
    "            checking = check_graph(solution,G,0,1,E)\n",
    "            if checking:\n",
    "                print(\"BŁĄD PROGRAMU: NIEWŁAŚCIWE ROZWIĄZANIE \",checking)"
   ]
  },
  {
   "cell_type": "code",
   "execution_count": null,
   "id": "94176e68",
   "metadata": {},
   "outputs": [],
   "source": [
    "test()"
   ]
  },
  {
   "cell_type": "code",
   "execution_count": null,
   "id": "a5768a57",
   "metadata": {},
   "outputs": [],
   "source": [
    "#test dla największego (200 węzłów) grafu siatki wykonywał się bardzo długo, dlatego przerwałem obliczenia\n",
    "#testy dla grafów typu small world:\n",
    "graph_types = [small_world_graph]\n",
    "test()"
   ]
  },
  {
   "cell_type": "markdown",
   "id": "6a4bc8d8",
   "metadata": {},
   "source": [
    "na moje rozwiązanie składają się:\n",
    "-skonstruowanie układu równań\n",
    "-rozwiązanie go\n",
    "-utworzenie na tej podstawie grafu natężeń pradu\n",
    "-wizualizacja tego grafu\n",
    "-przetestowanie otrzymanego grafu\n",
    "\n",
    "w celu skonstruowania układu równań, znajduję wszystkie cykle bazowe grafu za pomocą funkcji nx.cycle_basis(). Funkcja ta znajduje drzewo rozpinające w grafie i dla każdej krawędzi nieznajdujących się w tym drzewie wyznacza cykle. cykli tych będzie dokładnie m-n\n",
    "https://en.wikipedia.org/wiki/Cycle_basis\n",
    "Do utworzenia układu równań mógłbym skorzystać rownież z funkcji nx.simple_cycles(). Jednakże wówczas otrzymałbym nadokreślony układ równań.\n",
    "Równania otrzymywane poprzez II prawo kirchoffa dla każdego z tych cykli będą liniowo niezależne, gdyż z tej bazy cykli da się poprzez różnicę symetryczną otrzymać dowolny inny cykl w grafie.\n",
    "Oprocz tego, stosując pierwsze prawo kirchoffa otrzymuję układ n liniowo niezależnych równań.\n",
    "Taki układ rownań rozwiązuję za pomocą bibliotecznej funkcji np.linalg.solve()\n",
    "Tworząc graf natężeń prądu, krawędzie kierowałem od wierzchołka o mniejszy numerze do tego o większym, a jeżeli natężenie prądu w rozwiązniu było ujemne, odwracalem kierunek krawędzi. W celu sprawdzenia poprawności rozwiązania, sprawdzam, czy w grafie zachodzą I i II prawo kirchoffa dla wszystkich węzłów i cykli."
   ]
  }
 ],
 "metadata": {
  "kernelspec": {
   "display_name": "Python 3 (ipykernel)",
   "language": "python",
   "name": "python3"
  },
  "language_info": {
   "codemirror_mode": {
    "name": "ipython",
    "version": 3
   },
   "file_extension": ".py",
   "mimetype": "text/x-python",
   "name": "python",
   "nbconvert_exporter": "python",
   "pygments_lexer": "ipython3",
   "version": "3.9.12"
  }
 },
 "nbformat": 4,
 "nbformat_minor": 5
}
