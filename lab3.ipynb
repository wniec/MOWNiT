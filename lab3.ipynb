{
 "cells": [
  {
   "cell_type": "code",
   "execution_count": null,
   "id": "1252d3c5",
   "metadata": {},
   "outputs": [],
   "source": [
    "import numpy as np\n",
    "import imageio\n",
    "import matplotlib.pyplot as plt\n",
    "import matplotlib.animation as animation\n",
    "from IPython import display\n",
    "import copy\n",
    "from PIL import Image\n",
    "%matplotlib inline"
   ]
  },
  {
   "cell_type": "markdown",
   "id": "7819f61e",
   "metadata": {},
   "source": [
    "Zadanie 1"
   ]
  },
  {
   "cell_type": "code",
   "execution_count": null,
   "id": "8767b7f5",
   "metadata": {},
   "outputs": [],
   "source": [
    "def arbitrary_swap(T, vector):\n",
    "    swaps = int(len(vector)*T)\n",
    "    for i in range(swaps):\n",
    "        j = np.random.randint(len(vector))\n",
    "        k = np.random.randint(len(vector))\n",
    "        vector[[j, k],:] = vector[[k, j],:]\n",
    "    return vector"
   ]
  },
  {
   "cell_type": "code",
   "execution_count": null,
   "id": "97ef6427",
   "metadata": {},
   "outputs": [],
   "source": [
    "def consecutive_swap(T, vector):\n",
    "    swaps = int(len(vector)*T)\n",
    "    for i in range(swaps):\n",
    "        k = np.random.randint(len(vector))\n",
    "        vector[[k-1, k],:] = vector[[k, k-1],:]\n",
    "    return vector"
   ]
  },
  {
   "cell_type": "code",
   "execution_count": null,
   "id": "17035259",
   "metadata": {},
   "outputs": [],
   "source": [
    "def uniform_points(n):\n",
    "    return np.random.random((n,2))"
   ]
  },
  {
   "cell_type": "code",
   "execution_count": null,
   "id": "88be27b1",
   "metadata": {},
   "outputs": [],
   "source": [
    "def normal_points(n,parts):\n",
    "    n//=parts\n",
    "    n*=parts\n",
    "    #liczba punktów n musi być podzielna przez liczbę częsci\n",
    "    sqrt =int(np.sqrt(parts))\n",
    "    centres = np.array([[[parts*i,parts*j] for i in range(sqrt)]for j in range(sqrt)]).reshape((parts,2))\n",
    "    result =np.array([[np.random.normal(loc = i, scale = 0.1) for j in range(n//parts)]for i in centres]).reshape((n,2))\n",
    "    np.random.shuffle(result)\n",
    "    return result"
   ]
  },
  {
   "cell_type": "code",
   "execution_count": null,
   "id": "e087b22d",
   "metadata": {},
   "outputs": [],
   "source": [
    "def length(points):\n",
    "    simple_points = [(points[i][0],points[i][1]) for i in range(len(points))]\n",
    "    vectors = [(points[i][0]-points[i-1][0],points[i][1]-points[i-1][1]) for i in range(1,len(points))]\n",
    "    return sum([i[1]**2+i[0]**2 for i in vectors])"
   ]
  },
  {
   "cell_type": "code",
   "execution_count": null,
   "id": "b67d3e2a",
   "metadata": {},
   "outputs": [],
   "source": [
    "points = uniform_points(100)"
   ]
  },
  {
   "cell_type": "code",
   "execution_count": null,
   "id": "391abd30",
   "metadata": {},
   "outputs": [],
   "source": [
    "def annealing(points,swap,Tfunc = lambda x: 0.95*x,ax=None):\n",
    "    best = points.copy()\n",
    "    best_len = length(best)\n",
    "    states = [best.copy()]\n",
    "    T =1\n",
    "    lengths =[best_len]\n",
    "    no_change_counter=0\n",
    "    i=1\n",
    "    while T > 0.005 or no_change_counter <0.05*i:\n",
    "        #jeżeli 20 razy nie uzyskam lepszej wartości, to kończę pętlę\n",
    "        points = best.copy()\n",
    "        swap(T, points)\n",
    "        p_len = length(points) \n",
    "        lengths.append(p_len.copy())\n",
    "        states.append(points.copy())\n",
    "        if p_len< best_len:\n",
    "            best_len = p_len\n",
    "            best = points.copy()\n",
    "            no_change_counter =0\n",
    "        else:\n",
    "            no_change_counter +=1\n",
    "        T = Tfunc(T)\n",
    "        i += 1\n",
    "    if ax == None:\n",
    "        plt.plot([i for i in range(len(lengths))],lengths)\n",
    "        plt.show()\n",
    "    else:\n",
    "        ax.plot([i for i in range(len(lengths))],lengths)\n",
    "    return best"
   ]
  },
  {
   "cell_type": "code",
   "execution_count": null,
   "id": "f2cfc348",
   "metadata": {},
   "outputs": [],
   "source": [
    "def animate(states):\n",
    "    def AnimationFunction(frame):\n",
    "        line_plotted.set_data((frame[:,0],frame[:,1]))\n",
    "        plt.xlim([np.min(states[0][:,0]),np.max(states[0][:,0])])\n",
    "        plt.ylim([np.min(states[0][:,1]),np.max(states[0][:,1])])\n",
    "        return line_plotted\n",
    "        # line is set with new values of x and y\n",
    "    Figure = plt.figure()\n",
    "    lines_plotted = plt.plot([])\n",
    "    line_plotted = lines_plotted[0]\n",
    "    step = len(states)//150+1\n",
    "    anim_created = animation.FuncAnimation(Figure, AnimationFunction, frames=states[0::step],blit=False)\n",
    "    video = anim_created.to_html5_video()\n",
    "    html = display.HTML(video)\n",
    "    display.display(html)\n",
    "    plt.show()"
   ]
  },
  {
   "cell_type": "code",
   "execution_count": null,
   "id": "87dcdad1",
   "metadata": {},
   "outputs": [],
   "source": [
    "def visualize(states,best):\n",
    "    plt.scatter(states[0][:,0],states[0][:,1])\n",
    "    plt.show()\n",
    "    animate(states)"
   ]
  },
  {
   "cell_type": "code",
   "execution_count": null,
   "id": "25bfb7a1",
   "metadata": {},
   "outputs": [],
   "source": [
    "def draw_annealing(points,swap,Tfunc = lambda x: 0.95*x,ax = None):\n",
    "    best = points.copy()\n",
    "    best_len = length(best)\n",
    "    states = [best.copy()]\n",
    "    T =0.95\n",
    "    lengths =[best_len]\n",
    "    no_change_counter=0\n",
    "    i=1\n",
    "    while T > 0.005 or no_change_counter <0.05*i:\n",
    "        #jeżeli 20 razy nie uzyskam lepszej wartości, to kończę pętlę\n",
    "        points = best.copy()\n",
    "        swap(T, points)\n",
    "        p_len = length(points) \n",
    "        lengths.append(p_len.copy())\n",
    "        states.append(points.copy())\n",
    "        if p_len< best_len:\n",
    "            best_len = p_len\n",
    "            best = points.copy()\n",
    "            no_change_counter =0\n",
    "        else:\n",
    "            no_change_counter +=1\n",
    "        T = Tfunc(T)\n",
    "        i+=1\n",
    "    visualize(states,best)\n",
    "    plt.plot([i for i in range(len(lengths))],lengths)\n",
    "    plt.show()\n",
    "    return best"
   ]
  },
  {
   "cell_type": "code",
   "execution_count": null,
   "id": "05d72c73",
   "metadata": {},
   "outputs": [],
   "source": [
    "#Generowanie wszystkich filmów i wykresów może potrwać długo\n",
    "sizes = [100,500,1000]\n",
    "distributions = [lambda n : uniform_points(n), lambda n: normal_points(n,4), lambda n: normal_points(n,9)]\n",
    "for size in sizes:\n",
    "    print(size)\n",
    "    for dist in distributions:\n",
    "        points = dist(size)\n",
    "        draw_annealing(points,arbitrary_swap,lambda x: 0.999*x)"
   ]
  },
  {
   "cell_type": "code",
   "execution_count": null,
   "id": "d11ecdf2",
   "metadata": {},
   "outputs": [],
   "source": [
    "print(\"T(n) = 0.99*T(n-1)\")\n",
    "sizes = [100,500,1000]\n",
    "distributions = [lambda n : uniform_points(n), lambda n: normal_points(n,4), lambda n: normal_points(n,9)]\n",
    "for size in sizes:\n",
    "    for dist in distributions:\n",
    "        points = dist(size)\n",
    "        fig,ax =plt.subplots(1,2)\n",
    "        print(size)\n",
    "        arb = annealing(points.copy(),arbitrary_swap,lambda x: 0.99*x,ax[0])\n",
    "        con = annealing(points.copy(),consecutive_swap,lambda x: 0.99*x,ax[1])\n",
    "        print(\"arbitrary swap result:\\t\\t\",length(arb))\n",
    "        print(\"consecutive swap result:\\t\",length(con))\n",
    "        ax[0].set_title('arbitrary')\n",
    "        ax[1].set_title('consecutive')\n",
    "        plt.show()"
   ]
  },
  {
   "cell_type": "code",
   "execution_count": null,
   "id": "14ba12dc",
   "metadata": {},
   "outputs": [],
   "source": [
    "print(\"T(n) = *T(n-1)-0.001\")\n",
    "sizes = [100,500,1000]\n",
    "distributions = [lambda n : uniform_points(n), lambda n: normal_points(n,4), lambda n: normal_points(n,9)]\n",
    "for size in sizes:\n",
    "    for dist in distributions:\n",
    "        points = dist(size)\n",
    "        fig,ax =plt.subplots(1,2)\n",
    "        print(size)\n",
    "        arb = annealing(points.copy(),arbitrary_swap,lambda x: x-0.001,ax[0])\n",
    "        con = annealing(points.copy(),consecutive_swap,lambda x: x-0.001,ax[1])\n",
    "        print(\"arbitrary swap result:\\t\\t\",length(arb))\n",
    "        print(\"consecutive swap result:\\t\",length(con))\n",
    "        ax[0].set_title('arbitrary')\n",
    "        ax[1].set_title('consecutive')\n",
    "        plt.show()"
   ]
  },
  {
   "cell_type": "code",
   "execution_count": null,
   "id": "ad272855",
   "metadata": {},
   "outputs": [],
   "source": [
    "print(\"T(n) = (T(n-1)*np.sin(T(n-1))+99*T(n-1))/100\")\n",
    "for size in sizes:\n",
    "    for dist in distributions:\n",
    "        points = dist(size)\n",
    "        fig,ax =plt.subplots(1,2)\n",
    "        print(size)\n",
    "        arb = annealing(points.copy(),arbitrary_swap,lambda x: x*np.sin(x)/100+0.99*x,ax[0])\n",
    "        con = annealing(points.copy(),consecutive_swap,lambda x: x*np.sin(x)/100+0.99*x,ax[1])\n",
    "        print(\"arbitrary swap result:\\t\\t\",length(arb))\n",
    "        print(\"consecutive swap result:\\t\",length(con))\n",
    "        ax[0].set_title('arbitrary')\n",
    "        ax[1].set_title('consecutive')\n",
    "        plt.show()"
   ]
  },
  {
   "cell_type": "markdown",
   "id": "172cf4a1",
   "metadata": {},
   "source": [
    "# Wnioski:\n",
    "Możemy zauważyć, że w zależności od funkcji temperatury orza sposobu generacji sąsiedniego stanu zmieniała się zbieżność procesu symulowanego wyżarzania. Dla zamian sąsiednich wierzchołków, algorytm radził sobie nieco gorzej niż dla zamian losowych węzłów. Większy wpływ na zbieżność miała za to funkcja temperatury. Najlepiej poradziła sobie funkcja generująca kolejne wyrazy ciągu geometrycznego dla q = 0.99. Nieco gorzej wypadła funkcja generująca kolejne stany temperatury przy użyciu funkcji sinus.\n",
    "Jednak w jej wypadku powstały stosunkowo duże różnice pomiędzy wynikami uzyskiuwanymi przez consecutive, a arbitrary swap. Najgorzej wypadła funkcja liniowa. Zarówno funkcja wykorzystująca sinus jak i wykładnicza mają początkowo wysoką temperaturę. Moglo mieć to decydujący wpływ na zbieżność wyniku."
   ]
  },
  {
   "cell_type": "markdown",
   "id": "46218464",
   "metadata": {},
   "source": [
    "# Zadanie 2"
   ]
  },
  {
   "cell_type": "code",
   "execution_count": null,
   "id": "3898df35",
   "metadata": {},
   "outputs": [],
   "source": [
    "densities = [0.1,0.3,0.4]"
   ]
  },
  {
   "cell_type": "code",
   "execution_count": null,
   "id": "9ba95869",
   "metadata": {},
   "outputs": [],
   "source": [
    "def generate_points(p,n):\n",
    "    data=np.zeros((n,n),dtype=bool)\n",
    "    for i in range(n):\n",
    "        for j in range(n):\n",
    "            rand = np.random.random()\n",
    "            if rand >= p:\n",
    "                data[i][j] = True\n",
    "    return data"
   ]
  },
  {
   "cell_type": "code",
   "execution_count": null,
   "id": "b23a5f1f",
   "metadata": {},
   "outputs": [],
   "source": [
    "neighbour_types =[\n",
    "    [(1,0),(0,1),(0,-1),(-1,0)],\n",
    "    [(1,0),(0,1),(-1,-1),(1,1)],\n",
    "    [(1,0),(0,1),(0,-1),(-1,0),(-1,1),(1,-1)],\n",
    "    [(1,0),(0,1),(0,-1),(-1,0),(1,1),(-1,1),(1,-1),(-1,-1)],\n",
    "    [(1,0),(0,1),(0,-1),(-1,0),(1,1),(-1,1),(1,-1),(-1,-1),(2,0),(0,2),(0,-2),(-2,0)]\n",
    "]"
   ]
  },
  {
   "cell_type": "code",
   "execution_count": null,
   "id": "05e8c98a",
   "metadata": {},
   "outputs": [],
   "source": [
    "energy_functions = [\n",
    "    lambda x,y : 1/(x**2+y**2),\n",
    "    lambda x,y : abs(x)-abs(y),\n",
    "    lambda x,y : -1/(x**2+y**2),\n",
    "]"
   ]
  },
  {
   "cell_type": "code",
   "execution_count": null,
   "id": "21dc82ed",
   "metadata": {},
   "outputs": [],
   "source": [
    "def similar_state(T,matrix,neighbourhood):\n",
    "    size = len(matrix)\n",
    "    swaps = int(size*T)\n",
    "    for i in range(swaps):\n",
    "        x = np.random.randint(size)\n",
    "        y = np.random.randint(size)\n",
    "        a,b = neighbourhood[np.random.randint(len(neighbourhood))]\n",
    "        nx,ny = (x+a)%size,(y+b)%size\n",
    "        tmp = matrix[y,x]\n",
    "        matrix[y,x] = matrix[ny,nx]\n",
    "        matrix[ny,nx] = tmp\n",
    "    return matrix"
   ]
  },
  {
   "cell_type": "code",
   "execution_count": null,
   "id": "62b0410e",
   "metadata": {},
   "outputs": [],
   "source": [
    "def evaluate_energy(matrix,neighbourhood,E_func):\n",
    "    size = len(matrix)\n",
    "    E = 0\n",
    "    for i in range(size):\n",
    "        for j in range(size):\n",
    "            for nx, ny in neighbourhood:\n",
    "                a,b = j + nx, i + ny\n",
    "                if a < size and a > -1 and b < size and b > -1:\n",
    "                    sign = 1 if matrix[i][j] == matrix[b][a] else -1\n",
    "                E += sign*E_func(ny,nx)\n",
    "    return E"
   ]
  },
  {
   "cell_type": "code",
   "execution_count": null,
   "id": "78d232a4",
   "metadata": {},
   "outputs": [],
   "source": [
    "def equilibrium(points,neighbourhood,E_func,Tfunc = lambda x: x*0.99,ax=None):\n",
    "    best = points.copy()\n",
    "    best_energy = evaluate_energy(best,neighbourhood,E_func)\n",
    "    current_energy = best_energy\n",
    "    T =0.999\n",
    "    energies =[best_energy]\n",
    "    no_change_counter =0\n",
    "    while int(T*len(points)/5)>0:\n",
    "        #jeżeli 20 razy nie uzyskam lepszej wartości, to kończę pętlę\n",
    "        candidate = similar_state(T,copy.deepcopy(points),neighbourhood)\n",
    "        candidate_energy = evaluate_energy(candidate, neighbourhood, E_func)\n",
    "        candidate_diff = float(current_energy - candidate_energy)\n",
    "        if (np.exp((candidate_diff/T)) - np.random.random() > 0):\n",
    "                points = copy.deepcopy(candidate)\n",
    "                current_energy = candidate_energy\n",
    "        energies.append(candidate_energy)\n",
    "        if candidate_energy< best_energy:\n",
    "            best_energy = candidate_energy\n",
    "            best = copy.deepcopy(candidate)\n",
    "        T = Tfunc(T)\n",
    "    if ax == None:\n",
    "        plt.plot([i for i in range(len(energies))],energies)\n",
    "        plt.show()\n",
    "    else:\n",
    "        ax.plot([i for i in range(len(energies))],energies)\n",
    "    return best"
   ]
  },
  {
   "cell_type": "code",
   "execution_count": null,
   "id": "938ceb85",
   "metadata": {},
   "outputs": [],
   "source": [
    "def make_video(states):\n",
    "    fig,ax = plt.subplots()\n",
    "    im = ax.imshow(states[0], animated=True)\n",
    "    def AnimationFunction(frame):\n",
    "        im.set_array(frame)\n",
    "        return im,\n",
    "        # line is set with new values of x and y\n",
    "    step = len(states)//60+1\n",
    "    anim_created = animation.FuncAnimation(fig, AnimationFunction, frames=states[0::step],blit=False)\n",
    "    video = anim_created.to_html5_video()\n",
    "    html = display.HTML(video)\n",
    "    display.display(html)\n",
    "    plt.show()"
   ]
  },
  {
   "cell_type": "code",
   "execution_count": null,
   "id": "502a867f",
   "metadata": {},
   "outputs": [],
   "source": [
    "def animate_equilibrium(points,neighbourhood,E_func,Tfunc = lambda x: x*0.99):\n",
    "    best = points.copy()\n",
    "    best_energy = evaluate_energy(best,neighbourhood,E_func)\n",
    "    current_energy = best_energy\n",
    "    states = [Image.fromarray(best.copy())]\n",
    "    T =0.999\n",
    "    energies =[best_energy]\n",
    "    while int(T*len(points)/5)>0:\n",
    "        candidate = similar_state(T,copy.deepcopy(points),neighbourhood)\n",
    "        candidate_energy = evaluate_energy(candidate, neighbourhood, E_func)\n",
    "        candidate_diff = float(current_energy - candidate_energy)\n",
    "        if (np.exp((candidate_diff/T)) - np.random.random() > 0):\n",
    "                points = copy.deepcopy(candidate)\n",
    "                current_energy = candidate_energy\n",
    "        energies.append(candidate_energy)\n",
    "        states.append(Image.fromarray(candidate))\n",
    "        if candidate_energy< best_energy:\n",
    "            best_energy = candidate_energy\n",
    "            best = copy.deepcopy(candidate)\n",
    "        T = Tfunc(T)\n",
    "    make_video(states)\n",
    "    plt.plot([i for i in range(len(energies))],energies)\n",
    "    plt.show()\n",
    "    return best"
   ]
  },
  {
   "cell_type": "code",
   "execution_count": null,
   "id": "6be3bda0",
   "metadata": {},
   "outputs": [],
   "source": [
    "points = generate_points(0.3,40)\n",
    "i =0\n",
    "for n in neighbour_types:\n",
    "    print(\"neighbour type: \",(i)//len(energy_functions))\n",
    "    for ef in energy_functions:\n",
    "        print(\"energy function: \",(i)%len(energy_functions))\n",
    "        fig,ax =plt.subplots(1,3)\n",
    "        x=equilibrium(points,n,ef,lambda x: x*0.95,ax[0])\n",
    "        x=equilibrium(points,n,ef,lambda x: x*0.999,ax[1])\n",
    "        x=equilibrium(points,n,ef,lambda x: x*0.995,ax[2])\n",
    "        ax[0].set_title('T(n) = 0.95*T(n-1)')\n",
    "        ax[1].set_title('T(n) = 0.99*T(n-1)')\n",
    "        ax[2].set_title('T(n) = 0.995*T(n-1)')\n",
    "        plt.show()\n",
    "        i+=1\n",
    "            "
   ]
  },
  {
   "cell_type": "markdown",
   "id": "e8d4d08d",
   "metadata": {},
   "source": [
    "# Przykładowe działanie algorytmu dla T(n) = 0.999*T(n-1)"
   ]
  },
  {
   "cell_type": "code",
   "execution_count": null,
   "id": "2acbaaa3",
   "metadata": {},
   "outputs": [],
   "source": [
    "points = generate_points(0.4,80)\n",
    "i =0\n",
    "for n in neighbour_types:\n",
    "    print(\"neighbour type: \",(i)//len(energy_functions))\n",
    "    for ef in energy_functions:\n",
    "        print(\"energy function: \",(i)%len(energy_functions))\n",
    "        x=animate_equilibrium(points,n,ef,lambda x: x*0.999)\n",
    "        i+=1\n",
    "            "
   ]
  },
  {
   "cell_type": "markdown",
   "id": "ecc97235",
   "metadata": {},
   "source": [
    "# Opis:\n",
    "Mój algorytm generuje stany pośrednie losując odpowiednią (zależną od temperatury) liczbę punktów i dokonując ich zamiany\n",
    "z punktami należącymi do ich sąsiedztwa Wykorzystuję 3 różne funkcje energii:\n",
    "1) E ~ 1/r^2\n",
    "2) E ~ abs(x)-abs(y) -energia asymetryczne zależy od x i y\n",
    "3) E ~ r^2\n",
    "Oraz 5 różnych rodzajów sąsiedztwa: czwórkowe, ósemkowe oraz 3 sąsiedztwa asymetryczne\n",
    "Zbadalem również wyniki dla 3 różnych szybkości spadku temperatury."
   ]
  },
  {
   "cell_type": "markdown",
   "id": "6f41fc91",
   "metadata": {},
   "source": [
    "# wnioski:\n",
    "Możemy zauważyć, że im szybciej spadająca funkcja temperatury, tym szybciej otrzymujemy wynik (temperatura szybciej spada do 0). Jednakże wolniej spadające funkcje temperatury pozwalają na uzyskanie dokładniejszego wyniku. Co ciekawsze możemy zaobserwować pewne różne prawidłowości w rozmieszczeniu punktów na płaszczyźnie w zależności od wykorzystanego punktu i sąsiedztwa. W przypadku sąsiedztwa czwórkowego , dla pierwszej funkcji tworzą się ukośne struktury, a dla drugiej poziome. W przypadku większych sąsiedztw również dla trzeciej funkcji tworzą się ciekawe, większe jednokolorowe struktury"
   ]
  },
  {
   "cell_type": "markdown",
   "id": "03443584",
   "metadata": {},
   "source": [
    "# Zadanie 3"
   ]
  },
  {
   "cell_type": "code",
   "execution_count": null,
   "id": "bdfafe78",
   "metadata": {},
   "outputs": [],
   "source": [
    "def read_sudoku(filepath):\n",
    "    with open(filepath,\"r\") as file:\n",
    "        lines = file.readlines()\n",
    "    sudoku = np.zeros((9,9),dtype = np.uint8)\n",
    "    lines_split = [line.split() for line in lines]\n",
    "    fixed = set()\n",
    "    for i in range(9):\n",
    "        for j in range(9):\n",
    "            if lines_split[i][j] != 'x':\n",
    "                fixed.add((i,j))\n",
    "                sudoku[i,j] = int(lines_split[i][j])\n",
    "    first_fill(sudoku,fixed)\n",
    "    return sudoku,fixed"
   ]
  },
  {
   "cell_type": "code",
   "execution_count": null,
   "id": "f50b65ff",
   "metadata": {},
   "outputs": [],
   "source": [
    "def first_fill(sudoku,fixed):\n",
    "    for i in range(3):\n",
    "        for j in range(3):\n",
    "            used =np.array([False for i in range(9)],dtype = np.bool_)\n",
    "            for k in range(3):\n",
    "                for l in range(3):\n",
    "                    x,y = i*3+k,j*3+l\n",
    "                    if (x,y) in fixed:\n",
    "                        used[sudoku[x,y]-1]=True\n",
    "            to_insert = []\n",
    "            for u in range(len(used)):\n",
    "                if not used[u]:\n",
    "                    to_insert.append(u+1)\n",
    "            np.random.shuffle(to_insert)\n",
    "            z = 0\n",
    "            for k in range(3):\n",
    "                for l in range(3):\n",
    "                    x,y = i*3+k,j*3+l\n",
    "                    if not sudoku[x,y]:\n",
    "                        sudoku[x,y] = to_insert[z]\n",
    "                        z+=1"
   ]
  },
  {
   "cell_type": "code",
   "execution_count": null,
   "id": "6ff10687",
   "metadata": {},
   "outputs": [],
   "source": [
    "def permutate_sudoku(sudoku,fixed,T):\n",
    "    for i in range(int(T*81)):\n",
    "        while True:\n",
    "            blockx = np.random.randint(3)\n",
    "            blocky = np.random.randint(3)\n",
    "            x = np.random.randint(3)\n",
    "            y = np.random.randint(3)\n",
    "            nx = np.random.randint(3)\n",
    "            ny = np.random.randint(3)\n",
    "            x += blockx*3 \n",
    "            y += blocky*3 \n",
    "            nx += blockx*3 \n",
    "            ny += blocky*3 \n",
    "            if not ((y,x) in fixed or (ny,nx) in fixed) and not(nx == x and ny == y):\n",
    "                break\n",
    "        tmp = sudoku[y,x]\n",
    "        sudoku[y,x] = sudoku[ny,nx]\n",
    "        sudoku[ny,nx] = tmp\n",
    "    return sudoku"
   ]
  },
  {
   "cell_type": "code",
   "execution_count": null,
   "id": "f1f314f2",
   "metadata": {},
   "outputs": [],
   "source": [
    "def cost_function(sudoku):\n",
    "    cost = 0\n",
    "    for i in range(9):\n",
    "        cost -= len(set(sudoku[i,:]))\n",
    "        cost -= len(set(sudoku[:,i]))\n",
    "    return cost"
   ]
  },
  {
   "cell_type": "code",
   "execution_count": null,
   "id": "6d20220d",
   "metadata": {},
   "outputs": [],
   "source": [
    "def solve_sudoku(sudoku,fixed,Tfunc = lambda x:0.999*x):\n",
    "    best = copy.deepcopy(sudoku)\n",
    "    best_cost = cost_function(best)\n",
    "    current_cost = best_cost\n",
    "    T = 1\n",
    "    i=0\n",
    "    costs =[best_cost]\n",
    "    while T >=0.001:\n",
    "        candidate = permutate_sudoku(copy.deepcopy(sudoku),fixed,T)\n",
    "        candidate_cost = cost_function(candidate)\n",
    "        candidate_diff = float(current_cost - candidate_cost)\n",
    "        if (np.exp((candidate_diff/T)) - np.random.random() > 0):\n",
    "                sudoku = copy.deepcopy(candidate)\n",
    "                current_cost = candidate_cost\n",
    "        costs.append(candidate_cost)\n",
    "        if candidate_cost< best_cost:\n",
    "            best_cost = candidate_cost\n",
    "            best = copy.deepcopy(candidate)\n",
    "        T=Tfunc(T)\n",
    "        if best_cost == -162:\n",
    "            break\n",
    "        i+=1\n",
    "    plt.plot([i for i in range(len(costs))],costs)\n",
    "    plt.show()\n",
    "    print(\"lowest cost:\\t\",best_cost)\n",
    "    if(best_cost == -162):\n",
    "        print(\"number of iterations:\\t\",i)\n",
    "    return best"
   ]
  },
  {
   "cell_type": "code",
   "execution_count": null,
   "id": "3ddf5782",
   "metadata": {},
   "outputs": [],
   "source": [
    "#sudoku1 - 42 wypełnione pola\n",
    "sudoku1,fixed1 = read_sudoku(\"sudoku1.txt\")\n",
    "x = solve_sudoku(sudoku1,fixed1)\n",
    "#sudoku2 - 36 wypełnionych pól\n",
    "sudoku2,fixed2 = read_sudoku(\"sudoku2.txt\")\n",
    "x = solve_sudoku(sudoku2,fixed2)\n",
    "#sudoku3 - 30 wypełnionych pól\n",
    "sudoku3,fixed3 = read_sudoku(\"sudoku3.txt\")\n",
    "x = solve_sudoku(sudoku3,fixed3)\n",
    "#sudoku4 - 25 wypełnionych pól\n",
    "sudoku4,fixed4 = read_sudoku(\"sudoku4.txt\")\n",
    "x = solve_sudoku(sudoku4,fixed4)\n",
    "#sudoku5 - 23 wypełnione pola\n",
    "sudoku5,fixed5 = read_sudoku(\"sudoku5.txt\")\n",
    "x = solve_sudoku(sudoku5,fixed5)"
   ]
  },
  {
   "cell_type": "code",
   "execution_count": null,
   "id": "09f107bb",
   "metadata": {},
   "outputs": [],
   "source": [
    "def sudoku_result(sudoku,fixed,Tfunc = lambda x: 0.999*x):\n",
    "    best = copy.deepcopy(sudoku)\n",
    "    best_cost = cost_function(best)\n",
    "    current_cost = best_cost\n",
    "    T = 1\n",
    "    i=0\n",
    "    while T*81 >=1:\n",
    "        candidate = permutate_sudoku(copy.deepcopy(sudoku),fixed,T)\n",
    "        candidate_cost = cost_function(candidate)\n",
    "        candidate_diff = float(current_cost - candidate_cost)\n",
    "        if (np.exp((candidate_diff/T)) - np.random.random() > 0):\n",
    "                sudoku = copy.deepcopy(candidate)\n",
    "                current_cost = candidate_cost\n",
    "        if candidate_cost< best_cost:\n",
    "            best_cost = candidate_cost\n",
    "            best = copy.deepcopy(candidate)\n",
    "        T=Tfunc(T)\n",
    "        if best_cost == -162:\n",
    "            break\n",
    "        i+=1\n",
    "    if best_cost == -162:\n",
    "        return i\n",
    "    return 0"
   ]
  },
  {
   "cell_type": "code",
   "execution_count": null,
   "id": "c5450bd8",
   "metadata": {},
   "outputs": [],
   "source": [
    "def test():\n",
    "    results = np.zeros((5,))\n",
    "    successes = np.zeros((5,))\n",
    "    for i in range(5):\n",
    "        filename = \"sudoku\"+str(i+1)+\".txt\"\n",
    "        sudoku,fixed = read_sudoku(filename)\n",
    "        for j in range(20):\n",
    "            result = sudoku_result(sudoku,fixed)\n",
    "            if result:\n",
    "                results[i] += result\n",
    "                successes[i] +=1\n",
    "    return results,successes"
   ]
  },
  {
   "cell_type": "code",
   "execution_count": null,
   "id": "48922e63",
   "metadata": {},
   "outputs": [],
   "source": [
    "results = test()"
   ]
  },
  {
   "cell_type": "code",
   "execution_count": null,
   "id": "2f4d7698",
   "metadata": {},
   "outputs": [],
   "source": [
    "for i in range(5):\n",
    "    sudoku_sizes = [55,49,43,36,30,24]\n",
    "    if results[1][i] > 0:\n",
    "        avg_iterations = results[0][i]/results[1][i]\n",
    "        print(\"sudoku\"+str(i+1)+\".txt\\tsize:\\t\",sudoku_sizes[i],\"\\taverage iterations:\\t\",round(avg_iterations,1))\n",
    "    else:\n",
    "        print(\"sudoku\"+str(i+1)+\".txt\\tsize:\\t\",sudoku_sizes[i],\"\\tno sudoku solved:\\t\",)"
   ]
  },
  {
   "cell_type": "markdown",
   "id": "271e90bf",
   "metadata": {},
   "source": [
    "# Opis:\n",
    "Mój algorytm dla zadanego sudoku wypełnia puste pola w taki sposób, aby w każdym z bloków 3x3 danego sudoku znalazły się wszystkie cyfry od 1 do 9. Dzięki temu, aby wygenerować stan sąsiedni, algorytm zamienia komórki jedynie wewnątrz tego samego bloku 3x3."
   ]
  },
  {
   "cell_type": "markdown",
   "id": "cf6e32a8",
   "metadata": {},
   "source": [
    "# Wnioski:\n",
    "Okazuje się, że algorytm nie był w stanie znaleźć rozwiązań dla wszystkich sudoku. Problematyczne okazały się te, które miały mało wypełnionych pól. W przypadku sudoku o mniejszyh rozmiarach, Najmniej iteracji było potrzebne dla sudoku z 55 wypełnionymi polami. Świadczy to o fakcie, iż algorytm dziala mało efektywnie, gdy sudoku ma wiele wypełnionych pól."
   ]
  },
  {
   "cell_type": "code",
   "execution_count": null,
   "id": "7c8f07dc",
   "metadata": {},
   "outputs": [],
   "source": []
  }
 ],
 "metadata": {
  "kernelspec": {
   "display_name": "Python 3 (ipykernel)",
   "language": "python",
   "name": "python3"
  },
  "language_info": {
   "codemirror_mode": {
    "name": "ipython",
    "version": 3
   },
   "file_extension": ".py",
   "mimetype": "text/x-python",
   "name": "python",
   "nbconvert_exporter": "python",
   "pygments_lexer": "ipython3",
   "version": "3.9.12"
  }
 },
 "nbformat": 4,
 "nbformat_minor": 5
}
